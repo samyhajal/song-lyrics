{
 "cells": [
  {
   "cell_type": "code",
   "execution_count": null,
   "metadata": {
    "collapsed": true
   },
   "outputs": [],
   "source": [
    "import numpy as np\n",
    "import nltk\n",
    "import string\n",
    "import os\n",
    "import pandas\n",
    "import matplotlib.pyplot as plt\n",
    "import profanityfilter\n",
    "import pickle\n",
    "\n",
    "from sklearn.feature_extraction.text import CountVectorizer, TfidfVectorizer\n",
    "from sklearn.feature_selection import RFECV\n",
    "from sklearn.linear_model import LinearRegression, \n",
    "from sklearn.model_selection import train_test_split\n",
    "from sklearn.cross_validation import ShuffleSplit\n",
    "from sklearn.metrics import r2_score, make_scorer\n",
    "from sklearn.ensemble import RandomForestRegressor\n",
    "from sklearn.neural_network import MLPRegressor\n",
    "from sklearn.grid_search import GridSearchCV\n",
    "from sklearn.feature_extraction.text import TfidfVectorizer\n",
    "\n",
    "from nltk.stem.porter import PorterStemmer\n",
    "from nltk.corpus import stopwords\n",
    "\n",
    "from scipy.interpolate import interp1d"
   ]
  },
  {
   "cell_type": "code",
   "execution_count": 2,
   "metadata": {},
   "outputs": [
    {
     "name": "stdout",
     "output_type": "stream",
     "text": [
      "(4988, 4)\n",
      "                                          Song           Artist  Year  \\\n",
      "0     i cant help myself sugar pie honey bunch        four tops  1965   \n",
      "4109                           it aint me babe      the turtles  1965   \n",
      "4110                 red roses for a blue lady         vic dana  1965   \n",
      "4111                     dont just stand there       patty duke  1965   \n",
      "4112                             little things  bobby goldsboro  1965   \n",
      "\n",
      "                                                 Lyrics  \n",
      "0      Ooh, sugar pie, honey bunch\\nYou know that I ...  \n",
      "4109   go away from my window leave at your own chos...  \n",
      "4110  vic dana miscellaneous red roses for a blue la...  \n",
      "4111  please dont just stand there come and kiss me ...  \n",
      "4112  little things that you do  make me glad im in ...  \n"
     ]
    },
    {
     "name": "stderr",
     "output_type": "stream",
     "text": [
      "/Library/Python/2.7/site-packages/ipykernel_launcher.py:2: FutureWarning: sort(columns=....) is deprecated, use sort_values(by=.....)\n",
      "  \n"
     ]
    }
   ],
   "source": [
    "df = pandas.read_csv('merged.csv')\n",
    "df_sorted = df.sort(['Year'], ascending=[1])\n",
    "print(df_sorted.shape)\n",
    "print(df_sorted.head())"
   ]
  },
  {
   "cell_type": "code",
   "execution_count": 3,
   "metadata": {},
   "outputs": [
    {
     "data": {
      "image/png": "[encoded data removed]",
      "text/plain": [
       "<matplotlib.figure.Figure at 0x10974c290>"
      ]
     },
     "metadata": {},
     "output_type": "display_data"
    }
   ],
   "source": [
    "### Visualization\n",
    "## Average number of words per year\n",
    "prev_year = set()\n",
    "this_year = set()\n",
    "year = '1965'\n",
    "diffs = []\n",
    "diffs.append([])\n",
    "diffs.append([])\n",
    "for row in df_sorted.iterrows():\n",
    "    if year != row[1]['Year']:\n",
    "        intersection = this_year.intersection(prev_year)\n",
    "        diffs[0].append(len(this_year)-len(intersection))\n",
    "        prev_year = prev_year.union(this_year)\n",
    "        this_year = set()\n",
    "        year = row[1]['Year']\n",
    "    for w in row[1]['Lyrics'].split():\n",
    "        this_year.add(w)\n",
    "        \n",
    "plt.plot(range(1966, 2016), diffs[0][1:])\n",
    "plt.title(\"Number of new words over the years\")\n",
    "plt.show()"
   ]
  },
  {
   "cell_type": "code",
   "execution_count": null,
   "metadata": {
    "collapsed": true
   },
   "outputs": [],
   "source": []
  },
  {
   "cell_type": "code",
   "execution_count": 4,
   "metadata": {},
   "outputs": [
    {
     "name": "stdout",
     "output_type": "stream",
     "text": [
      "R2 score: 0.26493386708\n"
     ]
    },
    {
     "data": {
      "image/png": "[encoded data removed]",
      "text/plain": [
       "<matplotlib.figure.Figure at 0x103b0b050>"
      ]
     },
     "metadata": {},
     "output_type": "display_data"
    }
   ],
   "source": [
    "### Benchmark Model\n",
    "\n",
    "# Count the number of words in each song\n",
    "word_counts = [len(row[1]['Lyrics'].replace('\\n', ' ').split()) for row in df_sorted.iterrows()]\n",
    "X_bench = np.array(word_counts).reshape((len(word_counts), 1))\n",
    "y_bench = df_sorted['Year']\n",
    "\n",
    "# Train test split for benchmark\n",
    "X_train_b, X_test_b, y_train_b, y_test_b = train_test_split(X_bench, y_bench, test_size=0.2, random_state=1)\n",
    "\n",
    "# Initiliaze and train the benchmar model\n",
    "benchmark_model = LinearRegression()\n",
    "benchmark_model.fit(X_train_b, y_train_b)\n",
    "\n",
    "# Predict year using the benchmark and print r2 score\n",
    "y_pred = benchmark_model.predict(X_test_b)\n",
    "print('R2 score: {}'.format(r2_score(y_test_b, y_pred)))\n",
    "\n",
    "# Plot word count average per year\n",
    "aggregations = {'Lyrics': lambda x: np.mean([len(r.replace('\\n', ' ').split()) for r in x])}\n",
    "\n",
    "word_count_avg_per_year = df_sorted.groupby('Year').agg(aggregations)\n",
    "x = range(1965, 2016)\n",
    "\n",
    "# Interpolate the function\n",
    "f = interp1d(np.array(x), np.array(word_count_avg_per_year).squeeze(), kind='cubic')\n",
    "x_interp = np.linspace(1965, 2015, num=8, endpoint=True)\n",
    "\n",
    "# Plot\n",
    "plt.plot(x, word_count_avg_per_year, 'o', x_interp, f(x_interp), '-', color='green', markerfacecolor='blue', markersize=5)\n",
    "plt.title(\"Word count average per year\")\n",
    "plt.show()\n"
   ]
  },
  {
   "cell_type": "code",
   "execution_count": 5,
   "metadata": {},
   "outputs": [
    {
     "data": {
      "text/plain": [
       "(4988, 22637)"
      ]
     },
     "execution_count": 5,
     "metadata": {},
     "output_type": "execute_result"
    }
   ],
   "source": [
    "### Vectorizing the data\n",
    "\n",
    "stemmer = PorterStemmer()\n",
    "\n",
    "def stem_tokens(tokens, stemmer):\n",
    "    stemmed = []\n",
    "    for item in tokens:\n",
    "        stemmed.append(stemmer.stem(item))\n",
    "    return stemmed\n",
    "\n",
    "def tokenize(text):\n",
    "    tokens = nltk.word_tokenize(text)\n",
    "    tokens_filtered = filter(lambda w: not w in set(stopwords.words('english')), tokens)\n",
    "    stems = stem_tokens(tokens_filtered, stemmer)\n",
    "    return stems\n",
    "\n",
    "result = []\n",
    "\n",
    "for row in df.iterrows():\n",
    "    text = row[1]['Lyrics']\n",
    "    lowers = text.lower()\n",
    "    no_punctuation = lowers.translate(None, string.punctuation)\n",
    "    result.append(no_punctuation)\n",
    "\n",
    "try:\n",
    "    tfidf = pickle.load(open(\"tfidf.pickle\", \"rb\"))\n",
    "except (OSError, IOError) as e:\n",
    "    tfidf = TfidfVectorizer(tokenizer=tokenize, stop_words='english', encoding='latin-1', binary=True, sublinear_tf=True)\n",
    "    pickle.dump(tfidf, open(\"tfidf.pickle\", \"wb\"))\n",
    "    \n",
    "try:\n",
    "    tfs = pickle.load(open(\"tfs.pickle\", \"rb\"))\n",
    "except (OSError, IOError) as e:\n",
    "    tfs = tfidf.fit_transform(result)\n",
    "    pickle.dump(tfs, open(\"tfs.pickle\", \"wb\"))\n",
    "\n",
    "tfs.shape"
   ]
  },
  {
   "cell_type": "code",
   "execution_count": 6,
   "metadata": {
    "collapsed": true
   },
   "outputs": [],
   "source": [
    "### Adding relevant features\n",
    "profanityfilter.append_words(['skeet', 'hoe', 'hoes', 'thot', 'thots', 'niggas', 'niggaz', 'shits', 'mothafuckin'])\n",
    "\n",
    "# Compute profanity count average per year\n",
    "aggregations = {\n",
    "    'Lyrics': lambda year: np.mean([sum([r.replace('\\n', ' ').lower().translate(None, string.punctuation).split().count(p.lower()) for p in profanityfilter.get_bad_words()]) for r in year])\n",
    "}\n",
    "\n",
    "try:\n",
    "    profanity_count_avg_per_year = pickle.load(open(\"pcapy.pickle\", \"rb\"))\n",
    "except (OSError, IOError) as e:\n",
    "    profanity_count_avg_per_year = df_sorted.groupby('Year').agg(aggregations)\n",
    "    pickle.dump(profanity_count_avg_per_year, open(\"pcapy.pickle\", \"wb\"))"
   ]
  },
  {
   "cell_type": "code",
   "execution_count": 7,
   "metadata": {},
   "outputs": [
    {
     "data": {
      "image/png": "[encoded data removed]",
      "text/plain": [
       "<matplotlib.figure.Figure at 0x10974c150>"
      ]
     },
     "metadata": {},
     "output_type": "display_data"
    }
   ],
   "source": [
    "# Interpolate the function\n",
    "f_prof = interp1d(np.array(x), np.array(profanity_count_avg_per_year).squeeze(), kind='cubic')\n",
    "x_prof_interp = np.linspace(1965, 2015, num=9, endpoint=True)\n",
    "\n",
    "# Plot profanity average per year\n",
    "plt.plot(x, profanity_count_avg_per_year, 'o', x_prof_interp, f_prof(x_prof_interp), '-', color='green', markerfacecolor='blue', markersize=5)\n",
    "plt.title(\"Average number of profanity words over the years\")\n",
    "plt.show()"
   ]
  },
  {
   "cell_type": "code",
   "execution_count": 9,
   "metadata": {
    "scrolled": true
   },
   "outputs": [
    {
     "name": "stdout",
     "output_type": "stream",
     "text": [
      "Dataset with profanity: (4988, 22638)\n",
      "\n",
      "Dataset with profanity and word count shape: (4988, 22639)\n",
      "\n",
      "y_train samples:\n",
      "3526    45\n",
      "1847    25\n",
      "3418    43\n",
      "2604    34\n",
      "3643    46\n",
      "Name: Year, dtype: int64\n"
     ]
    }
   ],
   "source": [
    "profanity_count = [sum([r.split().count(p.lower()) for p in profanityfilter.get_bad_words()]) for r in result]\n",
    "tfs_profanity = np.concatenate((np.array(profanity_exists).reshape(len(profanity_exists), 1), tfs.toarray()), axis=1)\n",
    "print('Dataset with profanity: {}\\n'.format(tfs_profanity.shape))\n",
    "\n",
    "word_count_per_dp = [len(r.replace('\\n', ' ').split()) for r in df['Lyrics']]\n",
    "tfs_profanity_wc = np.concatenate((np.array(word_count_per_dp).reshape(len(word_count_per_dp), 1), tfs_profanity), axis=1)\n",
    "print('Dataset with profanity and word count shape: {}\\n'.format(tfs_profanity_wc.shape))\n",
    "\n",
    "X_train, X_test, y_train, y_test = train_test_split(tfs_profanity_wc, df['Year']-1965, test_size=0.2, random_state=2)\n",
    "print('y_train samples:')\n",
    "print(y_train.head())"
   ]
  },
  {
   "cell_type": "code",
   "execution_count": 10,
   "metadata": {
    "scrolled": false
   },
   "outputs": [
    {
     "name": "stdout",
     "output_type": "stream",
     "text": [
      "[  9.99962362e-01   4.31339564e-06   2.21085750e-07   1.41930511e-07\n",
      "   1.09362879e-07   8.93347986e-08   8.64791621e-08   7.97219445e-08\n",
      "   7.69079600e-08   7.36684701e-08   7.11823731e-08   6.95490464e-08\n",
      "   6.78740668e-08   6.57102534e-08   6.42749355e-08   6.41822411e-08\n",
      "   6.33105627e-08   6.23486649e-08   6.22218736e-08   6.09073596e-08\n",
      "   6.00503357e-08   5.94946722e-08   5.91537428e-08   5.85379508e-08\n",
      "   5.77966472e-08   5.71370817e-08   5.66031614e-08   5.56755471e-08\n",
      "   5.53973662e-08   5.49266517e-08   5.40145316e-08   5.36739964e-08\n",
      "   5.31392124e-08   5.28820910e-08   5.21465799e-08   5.19622654e-08\n",
      "   5.17104855e-08   5.16637654e-08   5.12971488e-08   5.09744153e-08\n",
      "   5.08235947e-08   4.98616624e-08   4.96373644e-08   4.94036738e-08\n",
      "   4.90397168e-08   4.84411805e-08   4.80549001e-08   4.79125455e-08\n",
      "   4.76473852e-08   4.70724629e-08]\n"
     ]
    }
   ],
   "source": [
    "from sklearn.decomposition import PCA\n",
    "pca = PCA(n_components=50, random_state=0)\n",
    "pca.fit(tfs_profanity_wc)\n",
    "\n",
    "print(pca.explained_variance_ratio_)"
   ]
  },
  {
   "cell_type": "code",
   "execution_count": 11,
   "metadata": {},
   "outputs": [
    {
     "name": "stdout",
     "output_type": "stream",
     "text": [
      "[[ 277.    0.    0. ...,    0.    0.    0.]\n",
      " [ 256.    0.    0. ...,    0.    0.    0.]\n",
      " [ 156.    0.    0. ...,    0.    0.    0.]\n",
      " ..., \n",
      " [ 509.    1.    0. ...,    0.    0.    0.]\n",
      " [ 500.    1.    0. ...,    0.    0.    0.]\n",
      " [ 223.    0.    0. ...,    0.    0.    0.]]\n",
      "50\n",
      "building tree 1 of 300\n",
      "building tree 2 of 300\n",
      "building tree 3 of 300\n",
      "building tree 4 of 300\n",
      "building tree 5 of 300\n",
      "building tree 6 of 300\n",
      "building tree 7 of 300\n",
      " building tree 8 of 300\n",
      "building tree 9 of 300\n",
      "building tree 10 of 300\n",
      "building tree 11 of 300\n",
      "building tree 12 of 300\n",
      "building tree 13 of 300\n",
      "building tree 14 of 300\n",
      "building tree 15 of 300\n",
      "building tree 16 of 300\n",
      "building tree 17 of 300\n",
      "building tree 18 of 300\n",
      "building tree 19 of 300\n",
      "building tree 20 of 300\n",
      "building tree 21 of 300\n",
      "building tree 22 of 300\n",
      "building tree 23 of 300\n",
      "building tree 24 of 300\n",
      "building tree 25 of 300\n",
      "building tree 26 of 300\n",
      "building tree 27 of 300\n",
      "building tree 28 of 300\n",
      "building tree 29 of 300\n",
      "building tree 30 of 300\n",
      "building tree 31 of 300\n",
      "building tree 32 of 300\n",
      "building tree 33 of 300\n",
      "building tree 34 of 300\n",
      "building tree 35 of 300\n",
      "building tree 36 of 300\n",
      " building tree 37 of 300\n",
      "building tree 38 of 300 \n",
      "building tree 39 of 300\n",
      "building tree 40 of 300\n"
     ]
    },
    {
     "name": "stderr",
     "output_type": "stream",
     "text": [
      "[Parallel(n_jobs=-1)]: Done  33 tasks      | elapsed:    1.3s\n"
     ]
    },
    {
     "name": "stdout",
     "output_type": "stream",
     "text": [
      "building tree 41 of 300\n",
      "building tree 42 of 300\n",
      "building tree 43 of 300\n",
      "building tree 44 of 300\n",
      "building tree 45 of 300\n",
      "building tree 46 of 300\n",
      "building tree 47 of 300\n",
      "building tree 48 of 300\n",
      "building tree 49 of 300building tree 50 of 300\n",
      "building tree 51 of 300\n",
      "\n",
      "building tree 52 of 300\n",
      "building tree 53 of 300\n",
      "building tree 54 of 300\n",
      "building tree 55 of 300\n",
      "building tree 56 of 300\n",
      "building tree 57 of 300\n",
      "building tree 58 of 300\n",
      "building tree 59 of 300\n",
      "building tree 60 of 300\n",
      "building tree 61 of 300\n",
      "building tree 62 of 300\n",
      "building tree 63 of 300\n",
      "building tree 64 of 300\n",
      "building tree 65 of 300\n",
      "building tree 66 of 300\n",
      "building tree 67 of 300\n",
      "building tree 68 of 300\n",
      "building tree 69 of 300\n",
      "building tree 70 of 300\n",
      "building tree 71 of 300\n",
      "building tree 72 of 300\n",
      "building tree 73 of 300\n",
      "building tree 74 of 300\n",
      "building tree 75 of 300\n",
      "building tree 76 of 300\n",
      "building tree 77 of 300\n",
      "building tree 78 of 300\n",
      "building tree 79 of 300\n",
      "building tree 80 of 300\n",
      "building tree 81 of 300\n",
      "building tree 82 of 300\n",
      "building tree 83 of 300\n",
      "building tree 84 of 300\n",
      "building tree 85 of 300\n",
      "building tree 86 of 300\n",
      "building tree 87 of 300\n",
      "building tree 88 of 300\n",
      "building tree 89 of 300\n",
      "building tree 91 of 300\n",
      "building tree 90 of 300\n",
      "building tree 92 of 300\n",
      "building tree 93 of 300\n",
      "building tree 94 of 300\n",
      "building tree 95 of 300\n",
      "building tree 96 of 300\n",
      "building tree 97 of 300\n",
      "building tree 98 of 300\n",
      "building tree 99 of 300\n",
      "building tree 100 of 300\n",
      "building tree 101 of 300\n",
      "building tree 102 of 300\n",
      "building tree 103 of 300\n",
      "building tree 104 of 300\n",
      "building tree 105 of 300\n",
      "building tree 106 of 300\n",
      "building tree 107 of 300\n",
      "building tree 108 of 300\n",
      "building tree 109 of 300\n",
      "building tree 110 of 300\n",
      "building tree 111 of 300\n",
      "building tree 112 of 300\n",
      "building tree 113 of 300\n",
      "building tree 114 of 300\n",
      "building tree 115 of 300\n",
      "building tree 116 of 300\n",
      "building tree 117 of 300\n",
      "building tree 118 of 300\n",
      "building tree 119 of 300\n",
      "building tree 120 of 300\n",
      "building tree 121 of 300\n",
      "building tree 122 of 300\n",
      "building tree 123 of 300\n",
      "building tree 124 of 300\n",
      "building tree 125 of 300\n",
      "building tree 126 of 300\n",
      "building tree 127 of 300\n",
      "building tree 128 of 300\n",
      "building tree 129 of 300\n",
      "building tree 130 of 300\n",
      "building tree 131 of 300\n",
      "building tree 132 of 300\n",
      "building tree 133 of 300\n",
      "building tree 134 of 300\n",
      "building tree 135 of 300\n",
      "building tree 136 of 300\n",
      "building tree 137 of 300\n",
      "building tree 138 of 300\n",
      "building tree 139 of 300\n",
      "building tree 140 of 300\n",
      "building tree 141 of 300\n",
      "building tree 142 of 300\n",
      "building tree 143 of 300\n",
      "building tree 144 of 300\n",
      "building tree 145 of 300\n",
      "building tree 146 of 300\n",
      "building tree 147 of 300\n",
      "building tree 148 of 300\n",
      "building tree 149 of 300\n",
      "building tree 151 of 300\n",
      "building tree 150 of 300building tree 152 of 300\n",
      "\n",
      "building tree 153 of 300\n",
      "building tree 154 of 300\n",
      "building tree 155 of 300\n",
      "building tree 156 of 300\n",
      "building tree 157 of 300\n",
      "building tree 158 of 300\n",
      "building tree 159 of 300\n"
     ]
    },
    {
     "name": "stderr",
     "output_type": "stream",
     "text": [
      "[Parallel(n_jobs=-1)]: Done 154 tasks      | elapsed:    5.9s\n"
     ]
    },
    {
     "name": "stdout",
     "output_type": "stream",
     "text": [
      "building tree 160 of 300\n",
      "building tree 161 of 300\n",
      "building tree 162 of 300\n",
      "building tree 163 of 300\n",
      "building tree 164 of 300\n",
      "building tree 165 of 300\n",
      "building tree 166 of 300\n",
      "building tree 167 of 300\n",
      "building tree 168 of 300\n",
      "building tree 169 of 300\n",
      "building tree 170 of 300\n",
      "building tree 171 of 300\n",
      "building tree 172 of 300\n",
      "building tree 173 of 300\n",
      "building tree 174 of 300\n",
      "building tree 175 of 300\n",
      "building tree 176 of 300\n",
      "building tree 177 of 300\n",
      "building tree 178 of 300\n",
      "building tree 179 of 300\n",
      "building tree 180 of 300\n",
      "building tree 181 of 300\n",
      "building tree 182 of 300\n",
      "building tree 183 of 300\n",
      "building tree 184 of 300\n",
      "building tree 185 of 300\n",
      "building tree 186 of 300\n",
      "building tree 187 of 300\n",
      "building tree 188 of 300\n",
      "building tree 189 of 300\n",
      "building tree 190 of 300\n",
      "building tree 191 of 300\n",
      "building tree 192 of 300\n",
      "building tree 193 of 300\n",
      "building tree 194 of 300\n",
      "building tree 195 of 300\n",
      "building tree 196 of 300\n",
      "building tree 197 of 300\n",
      "building tree 198 of 300\n",
      "building tree 199 of 300\n",
      "building tree 200 of 300\n",
      "building tree 201 of 300\n",
      "building tree 202 of 300\n",
      "building tree 203 of 300\n",
      "building tree 204 of 300\n",
      "building tree 206 of 300\n",
      "building tree 205 of 300\n",
      "building tree 207 of 300\n",
      "building tree 208 of 300\n",
      "building tree 209 of 300\n",
      "building tree 210 of 300\n",
      "building tree 211 of 300\n",
      "building tree 213 of 300\n",
      "building tree 212 of 300\n",
      "building tree 214 of 300\n",
      "building tree 215 of 300\n",
      "building tree 216 of 300\n",
      "building tree 217 of 300\n",
      "building tree 219 of 300\n",
      "building tree 218 of 300\n",
      "building tree 220 of 300\n",
      "building tree 221 of 300\n",
      "building tree 222 of 300\n",
      "building tree 223 of 300\n",
      "building tree 224 of 300\n",
      "building tree 225 of 300\n",
      "building tree 226 of 300\n",
      "building tree 227 of 300\n",
      "building tree 228 of 300\n",
      "building tree 230 of 300\n",
      "building tree 229 of 300\n",
      "building tree 231 of 300\n",
      "building tree 232 of 300\n",
      "building tree 233 of 300\n",
      "building tree 234 of 300\n",
      "building tree 235 of 300\n",
      "building tree 236 of 300\n",
      "building tree 237 of 300\n",
      "building tree 238 of 300\n",
      "building tree 239 of 300\n",
      "building tree 240 of 300\n",
      "building tree 241 of 300\n",
      "building tree 242 of 300\n",
      "building tree 243 of 300\n",
      "building tree 244 of 300\n",
      "building tree 245 of 300\n",
      "building tree 246 of 300\n",
      "building tree 247 of 300\n",
      "building tree 248 of 300\n",
      "building tree 249 of 300\n",
      "building tree 250 of 300\n",
      "building tree 251 of 300\n",
      "building tree 252 of 300\n",
      "building tree 253 of 300\n",
      "building tree 254 of 300\n",
      "building tree 255 of 300\n",
      "building tree 256 of 300\n",
      "building tree 257 of 300\n",
      "building tree 258 of 300\n",
      "building tree 259 of 300\n",
      "building tree 260 of 300\n",
      "building tree 261 of 300\n",
      "building tree 262 of 300\n",
      "building tree 263 of 300\n",
      "building tree 264 of 300\n",
      "building tree 265 of 300\n",
      "building tree 266 of 300\n",
      "building tree 267 of 300\n",
      "building tree 268 of 300\n",
      "building tree 269 of 300\n",
      "building tree 270 of 300\n",
      "building tree 271 of 300\n",
      "building tree 272 of 300\n",
      "building tree 273 of 300\n",
      "building tree 274 of 300\n",
      "building tree 275 of 300\n",
      "building tree 276 of 300\n",
      "building tree 277 of 300\n",
      "building tree 278 of 300\n",
      "building tree 279 of 300\n",
      "building tree 280 of 300\n",
      "building tree 281 of 300\n",
      "building tree 282 of 300\n",
      "building tree 283 of 300\n",
      "building tree 284 of 300\n",
      "building tree 285 of 300\n",
      "building tree 286 of 300\n",
      "building tree 287 of 300\n",
      "building tree 288 of 300\n",
      "building tree 289 of 300\n",
      "building tree 290 of 300\n",
      "building tree 291 of 300\n",
      "building tree 292 of 300\n",
      "building tree 293 of 300 building tree 294 of 300\n",
      "\n",
      "building tree 295 of 300\n",
      "building tree 296 of 300\n",
      "building tree 297 of 300\n",
      "building tree 298 of 300\n",
      "building tree 299 of 300\n",
      "building tree 300 of 300\n"
     ]
    },
    {
     "name": "stderr",
     "output_type": "stream",
     "text": [
      "[Parallel(n_jobs=-1)]: Done 300 out of 300 | elapsed:   11.3s finished\n"
     ]
    },
    {
     "name": "stdout",
     "output_type": "stream",
     "text": [
      "[ 0.24580056  0.11775572  0.02261215  0.02282315  0.01718015  0.01565229\n",
      "  0.03276508  0.01359934  0.01591128  0.01115445  0.01267975  0.01026318\n",
      "  0.02539569  0.02927914  0.00988467  0.01313687  0.01195593  0.01324102\n",
      "  0.01089845  0.01156719  0.0136406   0.01090242  0.01107598  0.01941047\n",
      "  0.01041338  0.01076688  0.0102405   0.01125189  0.01072794  0.01159518\n",
      "  0.01127889  0.01080916  0.01048025  0.00979251  0.01088052  0.0117471\n",
      "  0.01113031  0.01036071  0.01171354  0.01103037  0.0107862   0.01109842\n",
      "  0.01158577  0.01053418  0.01032946  0.01020111  0.01019893  0.00998337\n",
      "  0.01178766  0.01069021]\n"
     ]
    }
   ],
   "source": [
    "print(tfs_profanity_wc)\n",
    "print(pca.n_components_)\n",
    "tfs_post_pca = pca.transform(tfs_profanity_wc)\n",
    "\n",
    "X_train, X_test, y_train, y_test = train_test_split(tfs_post_pca, df['Year']-1965, test_size=0.2, random_state=2)\n",
    "\n",
    "rf = RandomForestRegressor(n_jobs=-1, random_state=0, n_estimators=300, max_features=20, verbose=2)\n",
    "rf.fit(X_train, y_train)\n",
    "print(rf.feature_importances_)"
   ]
  },
  {
   "cell_type": "code",
   "execution_count": 12,
   "metadata": {},
   "outputs": [
    {
     "name": "stderr",
     "output_type": "stream",
     "text": [
      "[Parallel(n_jobs=4)]: Done  33 tasks      | elapsed:    0.0s\n",
      "[Parallel(n_jobs=4)]: Done 154 tasks      | elapsed:    0.2s\n",
      "[Parallel(n_jobs=4)]: Done 300 out of 300 | elapsed:    0.5s finished\n"
     ]
    },
    {
     "data": {
      "text/plain": [
       "0.46324752976695094"
      ]
     },
     "execution_count": 12,
     "metadata": {},
     "output_type": "execute_result"
    }
   ],
   "source": [
    "rf.score(X_test, y_test)"
   ]
  },
  {
   "cell_type": "code",
   "execution_count": 19,
   "metadata": {
    "collapsed": true
   },
   "outputs": [],
   "source": [
    "def fit_model(X, y, params):\n",
    "    cv_sets = ShuffleSplit(X.shape[0], n_iter = 10, test_size = 0.20, random_state = 0)\n",
    "    \n",
    "    regressor = MLPRegressor(random_state=1, learning_rate='adaptive', alpha=0.00001)\n",
    "    scoring_fnc = make_scorer(r2_score)\n",
    "    \n",
    "    grid = GridSearchCV(regressor, params, scoring=scoring_fnc, cv=cv_sets, verbose=2)\n",
    "    grid = grid.fit(X, y)\n",
    "    \n",
    "    return grid.best_estimator_"
   ]
  },
  {
   "cell_type": "code",
   "execution_count": 20,
   "metadata": {},
   "outputs": [
    {
     "name": "stdout",
     "output_type": "stream",
     "text": [
      "Fitting 10 folds for each of 16 candidates, totalling 160 fits\n",
      "[CV] max_iter=100, hidden_layer_sizes=(10,) ..........................\n",
      "[CV] ................. max_iter=100, hidden_layer_sizes=(10,) -   0.8s\n",
      "[CV] max_iter=100, hidden_layer_sizes=(10,) ..........................\n"
     ]
    },
    {
     "name": "stderr",
     "output_type": "stream",
     "text": [
      "[Parallel(n_jobs=1)]: Done   1 out of   1 | elapsed:    0.8s remaining:    0.0s\n"
     ]
    },
    {
     "name": "stdout",
     "output_type": "stream",
     "text": [
      "[CV] ................. max_iter=100, hidden_layer_sizes=(10,) -   0.7s\n",
      "[CV] max_iter=100, hidden_layer_sizes=(10,) ..........................\n",
      "[CV] ................. max_iter=100, hidden_layer_sizes=(10,) -   0.6s\n",
      "[CV] max_iter=100, hidden_layer_sizes=(10,) ..........................\n",
      "[CV] ................. max_iter=100, hidden_layer_sizes=(10,) -   0.6s\n",
      "[CV] max_iter=100, hidden_layer_sizes=(10,) ..........................\n",
      "[CV] ................. max_iter=100, hidden_layer_sizes=(10,) -   0.7s\n",
      "[CV] max_iter=100, hidden_layer_sizes=(10,) ..........................\n",
      "[CV] ................. max_iter=100, hidden_layer_sizes=(10,) -   0.6s\n",
      "[CV] max_iter=100, hidden_layer_sizes=(10,) ..........................\n",
      "[CV] ................. max_iter=100, hidden_layer_sizes=(10,) -   0.6s\n",
      "[CV] max_iter=100, hidden_layer_sizes=(10,) ..........................\n",
      "[CV] ................. max_iter=100, hidden_layer_sizes=(10,) -   0.7s\n",
      "[CV] max_iter=100, hidden_layer_sizes=(10,) ..........................\n",
      "[CV] ................. max_iter=100, hidden_layer_sizes=(10,) -   0.6s\n",
      "[CV] max_iter=100, hidden_layer_sizes=(10,) ..........................\n",
      "[CV] ................. max_iter=100, hidden_layer_sizes=(10,) -   0.6s\n",
      "[CV] max_iter=200, hidden_layer_sizes=(10,) ..........................\n",
      "[CV] ................. max_iter=200, hidden_layer_sizes=(10,) -   1.4s\n",
      "[CV] max_iter=200, hidden_layer_sizes=(10,) ..........................\n",
      "[CV] ................. max_iter=200, hidden_layer_sizes=(10,) -   1.4s\n",
      "[CV] max_iter=200, hidden_layer_sizes=(10,) ..........................\n",
      "[CV] ................. max_iter=200, hidden_layer_sizes=(10,) -   1.7s\n",
      "[CV] max_iter=200, hidden_layer_sizes=(10,) ..........................\n",
      "[CV] ................. max_iter=200, hidden_layer_sizes=(10,) -   1.3s\n",
      "[CV] max_iter=200, hidden_layer_sizes=(10,) ..........................\n",
      "[CV] ................. max_iter=200, hidden_layer_sizes=(10,) -   1.8s\n",
      "[CV] max_iter=200, hidden_layer_sizes=(10,) ..........................\n",
      "[CV] ................. max_iter=200, hidden_layer_sizes=(10,) -   1.5s\n",
      "[CV] max_iter=200, hidden_layer_sizes=(10,) ..........................\n",
      "[CV] ................. max_iter=200, hidden_layer_sizes=(10,) -   1.7s\n",
      "[CV] max_iter=200, hidden_layer_sizes=(10,) ..........................\n",
      "[CV] ................. max_iter=200, hidden_layer_sizes=(10,) -   1.4s\n",
      "[CV] max_iter=200, hidden_layer_sizes=(10,) ..........................\n",
      "[CV] ................. max_iter=200, hidden_layer_sizes=(10,) -   1.7s\n",
      "[CV] max_iter=200, hidden_layer_sizes=(10,) ..........................\n",
      "[CV] ................. max_iter=200, hidden_layer_sizes=(10,) -   1.9s\n",
      "[CV] max_iter=500, hidden_layer_sizes=(10,) ..........................\n",
      "[CV] ................. max_iter=500, hidden_layer_sizes=(10,) -   2.3s\n",
      "[CV] max_iter=500, hidden_layer_sizes=(10,) ..........................\n",
      "[CV] ................. max_iter=500, hidden_layer_sizes=(10,) -   2.1s\n",
      "[CV] max_iter=500, hidden_layer_sizes=(10,) ..........................\n",
      "[CV] ................. max_iter=500, hidden_layer_sizes=(10,) -   1.7s\n",
      "[CV] max_iter=500, hidden_layer_sizes=(10,) ..........................\n",
      "[CV] ................. max_iter=500, hidden_layer_sizes=(10,) -   1.7s\n",
      "[CV] max_iter=500, hidden_layer_sizes=(10,) ..........................\n",
      "[CV] ................. max_iter=500, hidden_layer_sizes=(10,) -   2.2s\n",
      "[CV] max_iter=500, hidden_layer_sizes=(10,) ..........................\n",
      "[CV] ................. max_iter=500, hidden_layer_sizes=(10,) -   2.1s\n",
      "[CV] max_iter=500, hidden_layer_sizes=(10,) ..........................\n",
      "[CV] ................. max_iter=500, hidden_layer_sizes=(10,) -   2.0s\n",
      "[CV] max_iter=500, hidden_layer_sizes=(10,) ..........................\n",
      "[CV] ................. max_iter=500, hidden_layer_sizes=(10,) -   2.1s\n",
      "[CV] max_iter=500, hidden_layer_sizes=(10,) ..........................\n",
      "[CV] ................. max_iter=500, hidden_layer_sizes=(10,) -   2.2s\n",
      "[CV] max_iter=500, hidden_layer_sizes=(10,) ..........................\n",
      "[CV] ................. max_iter=500, hidden_layer_sizes=(10,) -   2.3s\n",
      "[CV] max_iter=1000, hidden_layer_sizes=(10,) .........................\n",
      "[CV] ................ max_iter=1000, hidden_layer_sizes=(10,) -   2.4s\n",
      "[CV] max_iter=1000, hidden_layer_sizes=(10,) .........................\n",
      "[CV] ................ max_iter=1000, hidden_layer_sizes=(10,) -   1.9s\n",
      "[CV] max_iter=1000, hidden_layer_sizes=(10,) .........................\n",
      "[CV] ................ max_iter=1000, hidden_layer_sizes=(10,) -   1.8s\n",
      "[CV] max_iter=1000, hidden_layer_sizes=(10,) .........................\n",
      "[CV] ................ max_iter=1000, hidden_layer_sizes=(10,) -   1.8s\n",
      "[CV] max_iter=1000, hidden_layer_sizes=(10,) .........................\n",
      "[CV] ................ max_iter=1000, hidden_layer_sizes=(10,) -   1.9s\n",
      "[CV] max_iter=1000, hidden_layer_sizes=(10,) .........................\n",
      "[CV] ................ max_iter=1000, hidden_layer_sizes=(10,) -   1.8s\n",
      "[CV] max_iter=1000, hidden_layer_sizes=(10,) .........................\n",
      "[CV] ................ max_iter=1000, hidden_layer_sizes=(10,) -   1.8s\n",
      "[CV] max_iter=1000, hidden_layer_sizes=(10,) .........................\n",
      "[CV] ................ max_iter=1000, hidden_layer_sizes=(10,) -   1.8s\n",
      "[CV] max_iter=1000, hidden_layer_sizes=(10,) .........................\n",
      "[CV] ................ max_iter=1000, hidden_layer_sizes=(10,) -   1.7s\n",
      "[CV] max_iter=1000, hidden_layer_sizes=(10,) .........................\n",
      "[CV] ................ max_iter=1000, hidden_layer_sizes=(10,) -   1.8s\n",
      "[CV] max_iter=100, hidden_layer_sizes=(50,) ..........................\n",
      "[CV] ................. max_iter=100, hidden_layer_sizes=(50,) -   1.0s\n",
      "[CV] max_iter=100, hidden_layer_sizes=(50,) ..........................\n",
      "[CV] ................. max_iter=100, hidden_layer_sizes=(50,) -   1.0s\n",
      "[CV] max_iter=100, hidden_layer_sizes=(50,) ..........................\n",
      "[CV] ................. max_iter=100, hidden_layer_sizes=(50,) -   1.0s\n",
      "[CV] max_iter=100, hidden_layer_sizes=(50,) ..........................\n",
      "[CV] ................. max_iter=100, hidden_layer_sizes=(50,) -   1.0s\n",
      "[CV] max_iter=100, hidden_layer_sizes=(50,) ..........................\n",
      "[CV] ................. max_iter=100, hidden_layer_sizes=(50,) -   1.0s\n",
      "[CV] max_iter=100, hidden_layer_sizes=(50,) ..........................\n",
      "[CV] ................. max_iter=100, hidden_layer_sizes=(50,) -   1.0s\n",
      "[CV] max_iter=100, hidden_layer_sizes=(50,) ..........................\n",
      "[CV] ................. max_iter=100, hidden_layer_sizes=(50,) -   1.0s\n",
      "[CV] max_iter=100, hidden_layer_sizes=(50,) ..........................\n",
      "[CV] ................. max_iter=100, hidden_layer_sizes=(50,) -   1.1s\n",
      "[CV] max_iter=100, hidden_layer_sizes=(50,) ..........................\n",
      "[CV] ................. max_iter=100, hidden_layer_sizes=(50,) -   1.1s\n",
      "[CV] max_iter=100, hidden_layer_sizes=(50,) ..........................\n",
      "[CV] ................. max_iter=100, hidden_layer_sizes=(50,) -   1.1s\n",
      "[CV] max_iter=200, hidden_layer_sizes=(50,) ..........................\n",
      "[CV] ................. max_iter=200, hidden_layer_sizes=(50,) -   2.2s\n",
      "[CV] max_iter=200, hidden_layer_sizes=(50,) ..........................\n",
      "[CV] ................. max_iter=200, hidden_layer_sizes=(50,) -   2.1s\n",
      "[CV] max_iter=200, hidden_layer_sizes=(50,) ..........................\n",
      "[CV] ................. max_iter=200, hidden_layer_sizes=(50,) -   2.1s\n",
      "[CV] max_iter=200, hidden_layer_sizes=(50,) ..........................\n",
      "[CV] ................. max_iter=200, hidden_layer_sizes=(50,) -   2.4s\n",
      "[CV] max_iter=200, hidden_layer_sizes=(50,) ..........................\n",
      "[CV] ................. max_iter=200, hidden_layer_sizes=(50,) -   2.5s\n",
      "[CV] max_iter=200, hidden_layer_sizes=(50,) ..........................\n",
      "[CV] ................. max_iter=200, hidden_layer_sizes=(50,) -   2.4s\n",
      "[CV] max_iter=200, hidden_layer_sizes=(50,) ..........................\n",
      "[CV] ................. max_iter=200, hidden_layer_sizes=(50,) -   3.4s\n",
      "[CV] max_iter=200, hidden_layer_sizes=(50,) ..........................\n",
      "[CV] ................. max_iter=200, hidden_layer_sizes=(50,) -   2.5s\n",
      "[CV] max_iter=200, hidden_layer_sizes=(50,) ..........................\n",
      "[CV] ................. max_iter=200, hidden_layer_sizes=(50,) -   1.9s\n",
      "[CV] max_iter=200, hidden_layer_sizes=(50,) ..........................\n"
     ]
    },
    {
     "name": "stdout",
     "output_type": "stream",
     "text": [
      "[CV] ................. max_iter=200, hidden_layer_sizes=(50,) -   2.4s\n",
      "[CV] max_iter=500, hidden_layer_sizes=(50,) ..........................\n",
      "[CV] ................. max_iter=500, hidden_layer_sizes=(50,) -   2.6s\n",
      "[CV] max_iter=500, hidden_layer_sizes=(50,) ..........................\n",
      "[CV] ................. max_iter=500, hidden_layer_sizes=(50,) -   2.0s\n",
      "[CV] max_iter=500, hidden_layer_sizes=(50,) ..........................\n",
      "[CV] ................. max_iter=500, hidden_layer_sizes=(50,) -   2.2s\n",
      "[CV] max_iter=500, hidden_layer_sizes=(50,) ..........................\n",
      "[CV] ................. max_iter=500, hidden_layer_sizes=(50,) -   2.3s\n",
      "[CV] max_iter=500, hidden_layer_sizes=(50,) ..........................\n",
      "[CV] ................. max_iter=500, hidden_layer_sizes=(50,) -   2.1s\n",
      "[CV] max_iter=500, hidden_layer_sizes=(50,) ..........................\n",
      "[CV] ................. max_iter=500, hidden_layer_sizes=(50,) -   2.1s\n",
      "[CV] max_iter=500, hidden_layer_sizes=(50,) ..........................\n",
      "[CV] ................. max_iter=500, hidden_layer_sizes=(50,) -   2.0s\n",
      "[CV] max_iter=500, hidden_layer_sizes=(50,) ..........................\n",
      "[CV] ................. max_iter=500, hidden_layer_sizes=(50,) -   1.9s\n",
      "[CV] max_iter=500, hidden_layer_sizes=(50,) ..........................\n",
      "[CV] ................. max_iter=500, hidden_layer_sizes=(50,) -   2.0s\n",
      "[CV] max_iter=500, hidden_layer_sizes=(50,) ..........................\n",
      "[CV] ................. max_iter=500, hidden_layer_sizes=(50,) -   1.8s\n",
      "[CV] max_iter=1000, hidden_layer_sizes=(50,) .........................\n",
      "[CV] ................ max_iter=1000, hidden_layer_sizes=(50,) -   2.1s\n",
      "[CV] max_iter=1000, hidden_layer_sizes=(50,) .........................\n",
      "[CV] ................ max_iter=1000, hidden_layer_sizes=(50,) -   1.8s\n",
      "[CV] max_iter=1000, hidden_layer_sizes=(50,) .........................\n",
      "[CV] ................ max_iter=1000, hidden_layer_sizes=(50,) -   2.0s\n",
      "[CV] max_iter=1000, hidden_layer_sizes=(50,) .........................\n",
      "[CV] ................ max_iter=1000, hidden_layer_sizes=(50,) -   1.9s\n",
      "[CV] max_iter=1000, hidden_layer_sizes=(50,) .........................\n",
      "[CV] ................ max_iter=1000, hidden_layer_sizes=(50,) -   1.9s\n",
      "[CV] max_iter=1000, hidden_layer_sizes=(50,) .........................\n",
      "[CV] ................ max_iter=1000, hidden_layer_sizes=(50,) -   2.1s\n",
      "[CV] max_iter=1000, hidden_layer_sizes=(50,) .........................\n",
      "[CV] ................ max_iter=1000, hidden_layer_sizes=(50,) -   2.0s\n",
      "[CV] max_iter=1000, hidden_layer_sizes=(50,) .........................\n",
      "[CV] ................ max_iter=1000, hidden_layer_sizes=(50,) -   1.9s\n",
      "[CV] max_iter=1000, hidden_layer_sizes=(50,) .........................\n",
      "[CV] ................ max_iter=1000, hidden_layer_sizes=(50,) -   2.0s\n",
      "[CV] max_iter=1000, hidden_layer_sizes=(50,) .........................\n",
      "[CV] ................ max_iter=1000, hidden_layer_sizes=(50,) -   1.8s\n",
      "[CV] max_iter=100, hidden_layer_sizes=(100,) .........................\n",
      "[CV] ................ max_iter=100, hidden_layer_sizes=(100,) -   1.1s\n",
      "[CV] max_iter=100, hidden_layer_sizes=(100,) .........................\n",
      "[CV] ................ max_iter=100, hidden_layer_sizes=(100,) -   1.3s\n",
      "[CV] max_iter=100, hidden_layer_sizes=(100,) .........................\n",
      "[CV] ................ max_iter=100, hidden_layer_sizes=(100,) -   1.1s\n",
      "[CV] max_iter=100, hidden_layer_sizes=(100,) .........................\n",
      "[CV] ................ max_iter=100, hidden_layer_sizes=(100,) -   1.3s\n",
      "[CV] max_iter=100, hidden_layer_sizes=(100,) .........................\n",
      "[CV] ................ max_iter=100, hidden_layer_sizes=(100,) -   1.1s\n",
      "[CV] max_iter=100, hidden_layer_sizes=(100,) .........................\n",
      "[CV] ................ max_iter=100, hidden_layer_sizes=(100,) -   1.3s\n",
      "[CV] max_iter=100, hidden_layer_sizes=(100,) .........................\n",
      "[CV] ................ max_iter=100, hidden_layer_sizes=(100,) -   1.3s\n",
      "[CV] max_iter=100, hidden_layer_sizes=(100,) .........................\n",
      "[CV] ................ max_iter=100, hidden_layer_sizes=(100,) -   1.2s\n",
      "[CV] max_iter=100, hidden_layer_sizes=(100,) .........................\n",
      "[CV] ................ max_iter=100, hidden_layer_sizes=(100,) -   1.2s\n",
      "[CV] max_iter=100, hidden_layer_sizes=(100,) .........................\n",
      "[CV] ................ max_iter=100, hidden_layer_sizes=(100,) -   1.6s\n",
      "[CV] max_iter=200, hidden_layer_sizes=(100,) .........................\n",
      "[CV] ................ max_iter=200, hidden_layer_sizes=(100,) -   1.1s\n",
      "[CV] max_iter=200, hidden_layer_sizes=(100,) .........................\n",
      "[CV] ................ max_iter=200, hidden_layer_sizes=(100,) -   1.4s\n",
      "[CV] max_iter=200, hidden_layer_sizes=(100,) .........................\n",
      "[CV] ................ max_iter=200, hidden_layer_sizes=(100,) -   1.1s\n",
      "[CV] max_iter=200, hidden_layer_sizes=(100,) .........................\n",
      "[CV] ................ max_iter=200, hidden_layer_sizes=(100,) -   1.2s\n",
      "[CV] max_iter=200, hidden_layer_sizes=(100,) .........................\n",
      "[CV] ................ max_iter=200, hidden_layer_sizes=(100,) -   1.3s\n",
      "[CV] max_iter=200, hidden_layer_sizes=(100,) .........................\n",
      "[CV] ................ max_iter=200, hidden_layer_sizes=(100,) -   1.3s\n",
      "[CV] max_iter=200, hidden_layer_sizes=(100,) .........................\n",
      "[CV] ................ max_iter=200, hidden_layer_sizes=(100,) -   1.4s\n",
      "[CV] max_iter=200, hidden_layer_sizes=(100,) .........................\n",
      "[CV] ................ max_iter=200, hidden_layer_sizes=(100,) -   1.1s\n",
      "[CV] max_iter=200, hidden_layer_sizes=(100,) .........................\n",
      "[CV] ................ max_iter=200, hidden_layer_sizes=(100,) -   1.3s\n",
      "[CV] max_iter=200, hidden_layer_sizes=(100,) .........................\n",
      "[CV] ................ max_iter=200, hidden_layer_sizes=(100,) -   1.2s\n",
      "[CV] max_iter=500, hidden_layer_sizes=(100,) .........................\n",
      "[CV] ................ max_iter=500, hidden_layer_sizes=(100,) -   1.2s\n",
      "[CV] max_iter=500, hidden_layer_sizes=(100,) .........................\n",
      "[CV] ................ max_iter=500, hidden_layer_sizes=(100,) -   1.6s\n",
      "[CV] max_iter=500, hidden_layer_sizes=(100,) .........................\n",
      "[CV] ................ max_iter=500, hidden_layer_sizes=(100,) -   1.2s\n",
      "[CV] max_iter=500, hidden_layer_sizes=(100,) .........................\n",
      "[CV] ................ max_iter=500, hidden_layer_sizes=(100,) -   1.4s\n",
      "[CV] max_iter=500, hidden_layer_sizes=(100,) .........................\n",
      "[CV] ................ max_iter=500, hidden_layer_sizes=(100,) -   1.1s\n",
      "[CV] max_iter=500, hidden_layer_sizes=(100,) .........................\n",
      "[CV] ................ max_iter=500, hidden_layer_sizes=(100,) -   1.2s\n",
      "[CV] max_iter=500, hidden_layer_sizes=(100,) .........................\n",
      "[CV] ................ max_iter=500, hidden_layer_sizes=(100,) -   1.3s\n",
      "[CV] max_iter=500, hidden_layer_sizes=(100,) .........................\n",
      "[CV] ................ max_iter=500, hidden_layer_sizes=(100,) -   1.0s\n",
      "[CV] max_iter=500, hidden_layer_sizes=(100,) .........................\n",
      "[CV] ................ max_iter=500, hidden_layer_sizes=(100,) -   1.2s\n",
      "[CV] max_iter=500, hidden_layer_sizes=(100,) .........................\n",
      "[CV] ................ max_iter=500, hidden_layer_sizes=(100,) -   1.1s\n",
      "[CV] max_iter=1000, hidden_layer_sizes=(100,) ........................\n",
      "[CV] ............... max_iter=1000, hidden_layer_sizes=(100,) -   1.1s\n",
      "[CV] max_iter=1000, hidden_layer_sizes=(100,) ........................\n",
      "[CV] ............... max_iter=1000, hidden_layer_sizes=(100,) -   1.4s\n",
      "[CV] max_iter=1000, hidden_layer_sizes=(100,) ........................\n",
      "[CV] ............... max_iter=1000, hidden_layer_sizes=(100,) -   1.1s\n",
      "[CV] max_iter=1000, hidden_layer_sizes=(100,) ........................\n",
      "[CV] ............... max_iter=1000, hidden_layer_sizes=(100,) -   1.2s\n",
      "[CV] max_iter=1000, hidden_layer_sizes=(100,) ........................\n",
      "[CV] ............... max_iter=1000, hidden_layer_sizes=(100,) -   1.1s\n",
      "[CV] max_iter=1000, hidden_layer_sizes=(100,) ........................\n",
      "[CV] ............... max_iter=1000, hidden_layer_sizes=(100,) -   1.3s\n",
      "[CV] max_iter=1000, hidden_layer_sizes=(100,) ........................\n",
      "[CV] ............... max_iter=1000, hidden_layer_sizes=(100,) -   1.4s\n",
      "[CV] max_iter=1000, hidden_layer_sizes=(100,) ........................\n"
     ]
    },
    {
     "name": "stdout",
     "output_type": "stream",
     "text": [
      "[CV] ............... max_iter=1000, hidden_layer_sizes=(100,) -   1.0s\n",
      "[CV] max_iter=1000, hidden_layer_sizes=(100,) ........................\n",
      "[CV] ............... max_iter=1000, hidden_layer_sizes=(100,) -   1.3s\n",
      "[CV] max_iter=1000, hidden_layer_sizes=(100,) ........................\n",
      "[CV] ............... max_iter=1000, hidden_layer_sizes=(100,) -   1.2s\n",
      "[CV] max_iter=100, hidden_layer_sizes=(50, 10) .......................\n",
      "[CV] .............. max_iter=100, hidden_layer_sizes=(50, 10) -   0.8s\n",
      "[CV] max_iter=100, hidden_layer_sizes=(50, 10) .......................\n",
      "[CV] .............. max_iter=100, hidden_layer_sizes=(50, 10) -   0.9s\n",
      "[CV] max_iter=100, hidden_layer_sizes=(50, 10) .......................\n",
      "[CV] .............. max_iter=100, hidden_layer_sizes=(50, 10) -   0.9s\n",
      "[CV] max_iter=100, hidden_layer_sizes=(50, 10) .......................\n",
      "[CV] .............. max_iter=100, hidden_layer_sizes=(50, 10) -   1.0s\n",
      "[CV] max_iter=100, hidden_layer_sizes=(50, 10) .......................\n",
      "[CV] .............. max_iter=100, hidden_layer_sizes=(50, 10) -   0.9s\n",
      "[CV] max_iter=100, hidden_layer_sizes=(50, 10) .......................\n",
      "[CV] .............. max_iter=100, hidden_layer_sizes=(50, 10) -   0.8s\n",
      "[CV] max_iter=100, hidden_layer_sizes=(50, 10) .......................\n",
      "[CV] .............. max_iter=100, hidden_layer_sizes=(50, 10) -   0.8s\n",
      "[CV] max_iter=100, hidden_layer_sizes=(50, 10) .......................\n",
      "[CV] .............. max_iter=100, hidden_layer_sizes=(50, 10) -   1.0s\n",
      "[CV] max_iter=100, hidden_layer_sizes=(50, 10) .......................\n",
      "[CV] .............. max_iter=100, hidden_layer_sizes=(50, 10) -   0.8s\n",
      "[CV] max_iter=100, hidden_layer_sizes=(50, 10) .......................\n",
      "[CV] .............. max_iter=100, hidden_layer_sizes=(50, 10) -   0.8s\n",
      "[CV] max_iter=200, hidden_layer_sizes=(50, 10) .......................\n",
      "[CV] .............. max_iter=200, hidden_layer_sizes=(50, 10) -   0.8s\n",
      "[CV] max_iter=200, hidden_layer_sizes=(50, 10) .......................\n",
      "[CV] .............. max_iter=200, hidden_layer_sizes=(50, 10) -   1.1s\n",
      "[CV] max_iter=200, hidden_layer_sizes=(50, 10) .......................\n",
      "[CV] .............. max_iter=200, hidden_layer_sizes=(50, 10) -   1.0s\n",
      "[CV] max_iter=200, hidden_layer_sizes=(50, 10) .......................\n",
      "[CV] .............. max_iter=200, hidden_layer_sizes=(50, 10) -   1.1s\n",
      "[CV] max_iter=200, hidden_layer_sizes=(50, 10) .......................\n",
      "[CV] .............. max_iter=200, hidden_layer_sizes=(50, 10) -   1.0s\n",
      "[CV] max_iter=200, hidden_layer_sizes=(50, 10) .......................\n",
      "[CV] .............. max_iter=200, hidden_layer_sizes=(50, 10) -   0.9s\n",
      "[CV] max_iter=200, hidden_layer_sizes=(50, 10) .......................\n",
      "[CV] .............. max_iter=200, hidden_layer_sizes=(50, 10) -   0.9s\n",
      "[CV] max_iter=200, hidden_layer_sizes=(50, 10) .......................\n",
      "[CV] .............. max_iter=200, hidden_layer_sizes=(50, 10) -   1.0s\n",
      "[CV] max_iter=200, hidden_layer_sizes=(50, 10) .......................\n",
      "[CV] .............. max_iter=200, hidden_layer_sizes=(50, 10) -   0.9s\n",
      "[CV] max_iter=200, hidden_layer_sizes=(50, 10) .......................\n",
      "[CV] .............. max_iter=200, hidden_layer_sizes=(50, 10) -   0.8s\n",
      "[CV] max_iter=500, hidden_layer_sizes=(50, 10) .......................\n",
      "[CV] .............. max_iter=500, hidden_layer_sizes=(50, 10) -   0.8s\n",
      "[CV] max_iter=500, hidden_layer_sizes=(50, 10) .......................\n",
      "[CV] .............. max_iter=500, hidden_layer_sizes=(50, 10) -   1.0s\n",
      "[CV] max_iter=500, hidden_layer_sizes=(50, 10) .......................\n",
      "[CV] .............. max_iter=500, hidden_layer_sizes=(50, 10) -   1.0s\n",
      "[CV] max_iter=500, hidden_layer_sizes=(50, 10) .......................\n",
      "[CV] .............. max_iter=500, hidden_layer_sizes=(50, 10) -   1.1s\n",
      "[CV] max_iter=500, hidden_layer_sizes=(50, 10) .......................\n",
      "[CV] .............. max_iter=500, hidden_layer_sizes=(50, 10) -   0.9s\n",
      "[CV] max_iter=500, hidden_layer_sizes=(50, 10) .......................\n",
      "[CV] .............. max_iter=500, hidden_layer_sizes=(50, 10) -   0.8s\n",
      "[CV] max_iter=500, hidden_layer_sizes=(50, 10) .......................\n",
      "[CV] .............. max_iter=500, hidden_layer_sizes=(50, 10) -   0.9s\n",
      "[CV] max_iter=500, hidden_layer_sizes=(50, 10) .......................\n",
      "[CV] .............. max_iter=500, hidden_layer_sizes=(50, 10) -   0.9s\n",
      "[CV] max_iter=500, hidden_layer_sizes=(50, 10) .......................\n",
      "[CV] .............. max_iter=500, hidden_layer_sizes=(50, 10) -   0.8s\n",
      "[CV] max_iter=500, hidden_layer_sizes=(50, 10) .......................\n",
      "[CV] .............. max_iter=500, hidden_layer_sizes=(50, 10) -   0.9s\n",
      "[CV] max_iter=1000, hidden_layer_sizes=(50, 10) ......................\n",
      "[CV] ............. max_iter=1000, hidden_layer_sizes=(50, 10) -   0.8s\n",
      "[CV] max_iter=1000, hidden_layer_sizes=(50, 10) ......................\n",
      "[CV] ............. max_iter=1000, hidden_layer_sizes=(50, 10) -   1.0s\n",
      "[CV] max_iter=1000, hidden_layer_sizes=(50, 10) ......................\n",
      "[CV] ............. max_iter=1000, hidden_layer_sizes=(50, 10) -   1.0s\n",
      "[CV] max_iter=1000, hidden_layer_sizes=(50, 10) ......................\n",
      "[CV] ............. max_iter=1000, hidden_layer_sizes=(50, 10) -   1.0s\n",
      "[CV] max_iter=1000, hidden_layer_sizes=(50, 10) ......................\n",
      "[CV] ............. max_iter=1000, hidden_layer_sizes=(50, 10) -   0.9s\n",
      "[CV] max_iter=1000, hidden_layer_sizes=(50, 10) ......................\n",
      "[CV] ............. max_iter=1000, hidden_layer_sizes=(50, 10) -   0.9s\n",
      "[CV] max_iter=1000, hidden_layer_sizes=(50, 10) ......................\n",
      "[CV] ............. max_iter=1000, hidden_layer_sizes=(50, 10) -   1.0s\n",
      "[CV] max_iter=1000, hidden_layer_sizes=(50, 10) ......................\n",
      "[CV] ............. max_iter=1000, hidden_layer_sizes=(50, 10) -   1.2s\n",
      "[CV] max_iter=1000, hidden_layer_sizes=(50, 10) ......................\n",
      "[CV] ............. max_iter=1000, hidden_layer_sizes=(50, 10) -   1.2s\n",
      "[CV] max_iter=1000, hidden_layer_sizes=(50, 10) ......................\n",
      "[CV] ............. max_iter=1000, hidden_layer_sizes=(50, 10) -   1.0s\n"
     ]
    },
    {
     "name": "stderr",
     "output_type": "stream",
     "text": [
      "[Parallel(n_jobs=1)]: Done 160 out of 160 | elapsed:  3.7min finished\n"
     ]
    }
   ],
   "source": [
    "best_model = fit_model(X_train, y_train, {'hidden_layer_sizes': [(10,), (50,), (100,), (50,10)], 'max_iter':[100, 200, 500, 1000]})"
   ]
  },
  {
   "cell_type": "code",
   "execution_count": 21,
   "metadata": {},
   "outputs": [
    {
     "name": "stdout",
     "output_type": "stream",
     "text": [
      "0.466443788784\n"
     ]
    }
   ],
   "source": [
    "print(best_model.score(X_test, y_test))"
   ]
  },
  {
   "cell_type": "code",
   "execution_count": 22,
   "metadata": {},
   "outputs": [
    {
     "name": "stdout",
     "output_type": "stream",
     "text": [
      "MLPRegressor(activation='relu', alpha=1e-05, batch_size='auto', beta_1=0.9,\n",
      "       beta_2=0.999, early_stopping=False, epsilon=1e-08,\n",
      "       hidden_layer_sizes=(50,), learning_rate='adaptive',\n",
      "       learning_rate_init=0.001, max_iter=500, momentum=0.9,\n",
      "       nesterovs_momentum=True, power_t=0.5, random_state=1, shuffle=True,\n",
      "       solver='adam', tol=0.0001, validation_fraction=0.1, verbose=False,\n",
      "       warm_start=False)\n"
     ]
    }
   ],
   "source": [
    "print(best_model)"
   ]
  },
  {
   "cell_type": "code",
   "execution_count": 54,
   "metadata": {},
   "outputs": [
    {
     "name": "stdout",
     "output_type": "stream",
     "text": [
      "(<type 'numpy.ndarray'>, <type 'numpy.ndarray'>)\n"
     ]
    }
   ],
   "source": []
  },
  {
   "cell_type": "code",
   "execution_count": 55,
   "metadata": {},
   "outputs": [
    {
     "name": "stdout",
     "output_type": "stream",
     "text": [
      "(<type 'numpy.ndarray'>, <type 'numpy.ndarray'>)\n"
     ]
    }
   ],
   "source": []
  },
  {
   "cell_type": "code",
   "execution_count": 56,
   "metadata": {},
   "outputs": [
    {
     "name": "stdout",
     "output_type": "stream",
     "text": [
      "(4988, 2)\n"
     ]
    }
   ],
   "source": []
  },
  {
   "cell_type": "code",
   "execution_count": 67,
   "metadata": {},
   "outputs": [
    {
     "name": "stdout",
     "output_type": "stream",
     "text": [
      "((3990, 2), (998, 2), (3990,), (998,))\n"
     ]
    }
   ],
   "source": []
  },
  {
   "cell_type": "code",
   "execution_count": 68,
   "metadata": {},
   "outputs": [
    {
     "name": "stdout",
     "output_type": "stream",
     "text": [
      "R2 score: -2124.96137587\n"
     ]
    }
   ],
   "source": []
  },
  {
   "cell_type": "code",
   "execution_count": null,
   "metadata": {
    "collapsed": true
   },
   "outputs": [],
   "source": []
  }
 ],
 "metadata": {
  "kernelspec": {
   "display_name": "Python 2",
   "language": "python",
   "name": "python2"
  },
  "language_info": {
   "codemirror_mode": {
    "name": "ipython",
    "version": 2
   },
   "file_extension": ".py",
   "mimetype": "text/x-python",
   "name": "python",
   "nbconvert_exporter": "python",
   "pygments_lexer": "ipython2",
   "version": "2.7.10"
  }
 },
 "nbformat": 4,
 "nbformat_minor": 2
}
