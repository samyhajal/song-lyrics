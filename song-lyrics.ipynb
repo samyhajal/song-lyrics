{
 "cells": [
  {
   "cell_type": "code",
   "execution_count": 1,
   "metadata": {},
   "outputs": [
    {
     "name": "stderr",
     "output_type": "stream",
     "text": [
      "/Library/Python/2.7/site-packages/sklearn/cross_validation.py:44: DeprecationWarning: This module was deprecated in version 0.18 in favor of the model_selection module into which all the refactored classes and functions are moved. Also note that the interface of the new CV iterators are different from that of this module. This module will be removed in 0.20.\n",
      "  \"This module will be removed in 0.20.\", DeprecationWarning)\n",
      "/Library/Python/2.7/site-packages/sklearn/grid_search.py:43: DeprecationWarning: This module was deprecated in version 0.18 in favor of the model_selection module into which all the refactored classes and functions are moved. This module will be removed in 0.20.\n",
      "  DeprecationWarning)\n"
     ]
    }
   ],
   "source": [
    "import numpy as np\n",
    "import nltk\n",
    "import string\n",
    "import os\n",
    "import pandas\n",
    "import matplotlib.pyplot as plt\n",
    "import profanityfilter\n",
    "import pickle\n",
    "\n",
    "from sklearn.feature_extraction.text import CountVectorizer, TfidfVectorizer\n",
    "from sklearn.feature_selection import RFECV\n",
    "from sklearn.linear_model import LinearRegression\n",
    "from sklearn.model_selection import train_test_split\n",
    "from sklearn.metrics import r2_score, make_scorer\n",
    "from sklearn.ensemble import RandomForestRegressor\n",
    "from sklearn.neural_network import MLPRegressor\n",
    "from sklearn.grid_search import GridSearchCV\n",
    "from sklearn.feature_extraction.text import TfidfVectorizer\n",
    "\n",
    "from nltk.stem.porter import PorterStemmer\n",
    "from nltk.corpus import stopwords\n",
    "\n",
    "from scipy.interpolate import interp1d"
   ]
  },
  {
   "cell_type": "code",
   "execution_count": 2,
   "metadata": {},
   "outputs": [
    {
     "name": "stdout",
     "output_type": "stream",
     "text": [
      "(4988, 4)\n",
      "                                          Song           Artist  Year  \\\n",
      "0     i cant help myself sugar pie honey bunch        four tops  1965   \n",
      "4109                           it aint me babe      the turtles  1965   \n",
      "4110                 red roses for a blue lady         vic dana  1965   \n",
      "4111                     dont just stand there       patty duke  1965   \n",
      "4112                             little things  bobby goldsboro  1965   \n",
      "\n",
      "                                                 Lyrics  \n",
      "0      Ooh, sugar pie, honey bunch\\nYou know that I ...  \n",
      "4109   go away from my window leave at your own chos...  \n",
      "4110  vic dana miscellaneous red roses for a blue la...  \n",
      "4111  please dont just stand there come and kiss me ...  \n",
      "4112  little things that you do  make me glad im in ...  \n"
     ]
    },
    {
     "name": "stderr",
     "output_type": "stream",
     "text": [
      "/Library/Python/2.7/site-packages/ipykernel_launcher.py:2: FutureWarning: sort(columns=....) is deprecated, use sort_values(by=.....)\n",
      "  \n"
     ]
    }
   ],
   "source": [
    "df = pandas.read_csv('merged.csv')\n",
    "df_sorted = df.sort(['Year'], ascending=[1])\n",
    "print(df_sorted.shape)\n",
    "print(df_sorted.head())"
   ]
  },
  {
   "cell_type": "code",
   "execution_count": 3,
   "metadata": {},
   "outputs": [
    {
     "name": "stdout",
     "output_type": "stream",
     "text": [
      "R2 score: 0.26493386708\n"
     ]
    },
    {
     "data": {
      "image/png": "[encoded data removed]",
      "text/plain": [
       "<matplotlib.figure.Figure at 0x11099a090>"
      ]
     },
     "metadata": {},
     "output_type": "display_data"
    }
   ],
   "source": [
    "### Benchmark Model\n",
    "\n",
    "# Count the number of words in each song\n",
    "word_counts = [len(row[1]['Lyrics'].replace('\\n', ' ').split()) for row in df_sorted.iterrows()]\n",
    "X_bench = np.array(word_counts).reshape((len(word_counts), 1))\n",
    "y_bench = df_sorted['Year']\n",
    "\n",
    "# Train test split for benchmark\n",
    "X_train_b, X_test_b, y_train_b, y_test_b = train_test_split(X_bench, y_bench, test_size=0.2, random_state=1)\n",
    "\n",
    "# Initiliaze and train the benchmar model\n",
    "benchmark_model = LinearRegression()\n",
    "benchmark_model.fit(X_train_b, y_train_b)\n",
    "\n",
    "# Predict year using the benchmark and print r2 score\n",
    "y_pred = benchmark_model.predict(X_test_b)\n",
    "print('R2 score: {}'.format(r2_score(y_test_b, y_pred)))\n",
    "\n",
    "# Plot word count average per year\n",
    "aggregations = {'Lyrics': lambda x: np.mean([len(r.replace('\\n', ' ').split()) for r in x])}\n",
    "\n",
    "word_count_avg_per_year = df_sorted.groupby('Year').agg(aggregations)\n",
    "x = range(1965, 2016)\n",
    "\n",
    "# Interpolate the function\n",
    "f = interp1d(np.array(x), np.array(word_count_avg_per_year).squeeze(), kind='cubic')\n",
    "x_interp = np.linspace(1965, 2015, num=8, endpoint=True)\n",
    "\n",
    "# Plot\n",
    "plt.plot(x, word_count_avg_per_year, 'o', x_interp, f(x_interp), '-', color='green', markerfacecolor='blue', markersize=5)\n",
    "plt.show()\n",
    "\n"
   ]
  },
  {
   "cell_type": "code",
   "execution_count": 4,
   "metadata": {},
   "outputs": [
    {
     "data": {
      "text/plain": [
       "(4988, 22637)"
      ]
     },
     "execution_count": 4,
     "metadata": {},
     "output_type": "execute_result"
    }
   ],
   "source": [
    "### Vectorizing the data\n",
    "\n",
    "stemmer = PorterStemmer()\n",
    "\n",
    "def stem_tokens(tokens, stemmer):\n",
    "    stemmed = []\n",
    "    for item in tokens:\n",
    "        stemmed.append(stemmer.stem(item))\n",
    "    return stemmed\n",
    "\n",
    "def tokenize(text):\n",
    "    tokens = nltk.word_tokenize(text)\n",
    "    tokens_filtered = filter(lambda w: not w in set(stopwords.words('english')), tokens)\n",
    "    stems = stem_tokens(tokens_filtered, stemmer)\n",
    "    return stems\n",
    "\n",
    "result = []\n",
    "\n",
    "for row in df.iterrows():\n",
    "    text = row[1]['Lyrics']\n",
    "    lowers = text.lower()\n",
    "    no_punctuation = lowers.translate(None, string.punctuation)\n",
    "    result.append(no_punctuation)\n",
    "\n",
    "try:\n",
    "    tfs = pickle.load(open(\"tfs.pickle\", \"rb\"))\n",
    "except (OSError, IOError) as e:\n",
    "    tfidf = TfidfVectorizer(tokenizer=tokenize, stop_words='english', encoding='latin-1', binary=True, sublinear_tf=True)\n",
    "    tfs = tfidf.fit_transform(result)\n",
    "    pickle.dump(tfs, open(\"tfs.pickle\", \"wb\"))\n",
    "\n",
    "tfs.shape"
   ]
  },
  {
   "cell_type": "code",
   "execution_count": 5,
   "metadata": {},
   "outputs": [],
   "source": [
    "### Adding relevant features\n",
    "profanityfilter.append_words(['skeet', 'hoe', 'hoes', 'thot', 'thots', 'niggas', 'niggaz', 'shits', 'mothafuckin'])\n",
    "\n",
    "# Compute profanity count average per year\n",
    "aggregations = {\n",
    "    'Lyrics': lambda year: np.mean([sum([r.replace('\\n', ' ').lower().translate(None, string.punctuation).split().count(p.lower()) for p in profanityfilter.get_bad_words()]) for r in year])\n",
    "}\n",
    "\n",
    "try:\n",
    "    profanity_count_avg_per_year = pickle.load(open(\"pcapy.pickle\", \"rb\"))\n",
    "except (OSError, IOError) as e:\n",
    "    profanity_count_avg_per_year = df_sorted.groupby('Year').agg(aggregations)\n",
    "    pickle.dump(profanity_count_avg_per_year, open(\"pcapy.pickle\", \"wb\"))"
   ]
  },
  {
   "cell_type": "code",
   "execution_count": 6,
   "metadata": {},
   "outputs": [
    {
     "data": {
      "image/png": "[encoded data removed]",
      "text/plain": [
       "<matplotlib.figure.Figure at 0x11793bc50>"
      ]
     },
     "metadata": {},
     "output_type": "display_data"
    }
   ],
   "source": [
    "# Interpolate the function\n",
    "f_prof = interp1d(np.array(x), np.array(profanity_count_avg_per_year).squeeze(), kind='cubic')\n",
    "x_prof_interp = np.linspace(1965, 2015, num=9, endpoint=True)\n",
    "\n",
    "# Plot profanity average per year\n",
    "plt.plot(x, profanity_count_avg_per_year, 'o', x_prof_interp, f_prof(x_prof_interp), '-', color='green', markerfacecolor='blue', markersize=5)\n",
    "plt.show()"
   ]
  },
  {
   "cell_type": "code",
   "execution_count": 7,
   "metadata": {
    "collapsed": true
   },
   "outputs": [],
   "source": [
    "# profanity_count = [sum([r.split().count(p.lower()) for p in profanityfilter.get_bad_words()]) for r in result]\n",
    "profanity_exists = [1 if any([p in r.split() for p in profanityfilter.get_bad_words()]) else 0 for r in result]"
   ]
  },
  {
   "cell_type": "code",
   "execution_count": 21,
   "metadata": {
    "scrolled": true
   },
   "outputs": [
    {
     "name": "stdout",
     "output_type": "stream",
     "text": [
      "Dataset with profanity: (4988, 22638)\n",
      "\n",
      "Dataset with profanity and word count shape: (4988, 22639)\n",
      "\n",
      "y_train samples:\n",
      "3526    45\n",
      "1847    25\n",
      "3418    43\n",
      "2604    34\n",
      "3643    46\n",
      "Name: Year, dtype: int64\n"
     ]
    }
   ],
   "source": [
    "tfs_profanity = np.concatenate((np.array(profanity_exists).reshape(len(profanity_exists), 1), tfs.toarray()), axis=1)\n",
    "print('Dataset with profanity: {}\\n'.format(tfs_profanity.shape))\n",
    "word_count_per_dp = [len(r.replace('\\n', ' ').split()) for r in df['Lyrics']]\n",
    "\n",
    "tfs_profanity_wc = np.concatenate((np.array(word_count_per_dp).reshape(len(word_count_per_dp), 1), tfs_profanity), axis=1)\n",
    "print('Dataset with profanity and word count shape: {}\\n'.format(tfs_profanity_wc.shape))\n",
    "\n",
    "X_train, X_test, y_train, y_test = train_test_split(tfs_profanity_wc, df['Year']-1965, test_size=0.2, random_state=2)\n",
    "print('y_train samples:')\n",
    "print(y_train.head())"
   ]
  },
  {
   "cell_type": "code",
   "execution_count": 42,
   "metadata": {
    "scrolled": false
   },
   "outputs": [
    {
     "name": "stdout",
     "output_type": "stream",
     "text": [
      "[  9.99962362e-01   4.31339564e-06   2.21085750e-07   1.41930511e-07\n",
      "   1.09362879e-07   8.93347986e-08   8.64791621e-08   7.97219445e-08\n",
      "   7.69079600e-08   7.36684701e-08   7.11823731e-08   6.95490464e-08\n",
      "   6.78740668e-08   6.57102534e-08   6.42749355e-08   6.41822411e-08\n",
      "   6.33105627e-08   6.23486649e-08   6.22218736e-08   6.09073596e-08\n",
      "   6.00503357e-08   5.94946722e-08   5.91537428e-08   5.85379508e-08\n",
      "   5.77966472e-08   5.71370817e-08   5.66031614e-08   5.56755471e-08\n",
      "   5.53973662e-08   5.49266517e-08   5.40145316e-08   5.36739964e-08\n",
      "   5.31392124e-08   5.28820910e-08   5.21465799e-08   5.19622654e-08\n",
      "   5.17104855e-08   5.16637654e-08   5.12971488e-08   5.09744153e-08\n",
      "   5.08235947e-08   4.98616624e-08   4.96373644e-08   4.94036738e-08\n",
      "   4.90397168e-08   4.84411805e-08   4.80549001e-08   4.79125455e-08\n",
      "   4.76473852e-08   4.70724629e-08]\n"
     ]
    }
   ],
   "source": [
    "from sklearn.decomposition import PCA\n",
    "pca = PCA(n_components=50, random_state=0)\n",
    "pca.fit(tfs_profanity_wc)\n",
    "\n",
    "print(pca.explained_variance_ratio_)"
   ]
  },
  {
   "cell_type": "code",
   "execution_count": 43,
   "metadata": {},
   "outputs": [
    {
     "name": "stdout",
     "output_type": "stream",
     "text": [
      "[[ 277.    0.    0. ...,    0.    0.    0.]\n",
      " [ 256.    0.    0. ...,    0.    0.    0.]\n",
      " [ 156.    0.    0. ...,    0.    0.    0.]\n",
      " ..., \n",
      " [ 509.    1.    0. ...,    0.    0.    0.]\n",
      " [ 500.    1.    0. ...,    0.    0.    0.]\n",
      " [ 223.    0.    0. ...,    0.    0.    0.]]\n",
      "50\n",
      "building tree 1 of 300\n",
      "building tree 2 of 300building tree 3 of 300\n",
      "\n",
      "building tree 4 of 300\n",
      "building tree 5 of 300 building tree 6 of 300\n",
      "building tree 7 of 300\n",
      "\n",
      "building tree 8 of 300\n",
      "building tree 9 of 300\n",
      "building tree 10 of 300\n",
      "building tree 11 of 300\n",
      "building tree 12 of 300\n",
      "building tree 13 of 300\n",
      "building tree 14 of 300\n",
      "building tree 15 of 300 building tree 16 of 300\n",
      "\n",
      "building tree 17 of 300\n",
      "building tree 18 of 300\n",
      "building tree 19 of 300\n",
      "building tree 20 of 300\n",
      "building tree 21 of 300\n",
      "building tree 22 of 300\n",
      "building tree 23 of 300\n",
      "building tree 24 of 300\n",
      "building tree 25 of 300\n",
      "building tree 26 of 300\n",
      "building tree 27 of 300\n",
      "building tree 28 of 300\n",
      "building tree 29 of 300\n",
      "building tree 30 of 300\n",
      "building tree 31 of 300\n",
      "building tree 32 of 300\n",
      "building tree 33 of 300\n",
      "building tree 34 of 300\n",
      "building tree 35 of 300\n",
      "building tree 36 of 300\n",
      "building tree 37 of 300\n",
      "building tree 38 of 300\n",
      "building tree 39 of 300\n"
     ]
    },
    {
     "name": "stderr",
     "output_type": "stream",
     "text": [
      "[Parallel(n_jobs=-1)]: Done  33 tasks      | elapsed:    1.0s\n"
     ]
    },
    {
     "name": "stdout",
     "output_type": "stream",
     "text": [
      "building tree 41 of 300\n",
      "building tree 40 of 300\n",
      "building tree 42 of 300\n",
      "building tree 43 of 300\n",
      "building tree 46 of 300building tree 44 of 300\n",
      "building tree 45 of 300\n",
      "\n",
      "building tree 47 of 300\n",
      "building tree 48 of 300\n",
      "building tree 49 of 300\n",
      "building tree 50 of 300\n",
      "building tree 51 of 300\n",
      "building tree 52 of 300\n",
      "building tree 53 of 300\n",
      "building tree 54 of 300\n",
      "building tree 55 of 300\n",
      "building tree 56 of 300\n",
      "building tree 57 of 300\n",
      "building tree 58 of 300\n",
      "building tree 59 of 300\n",
      "building tree 60 of 300\n",
      "building tree 61 of 300\n",
      "building tree 62 of 300\n",
      "building tree 63 of 300\n",
      "building tree 64 of 300\n",
      "building tree 65 of 300\n",
      "building tree 66 of 300\n",
      "building tree 67 of 300\n",
      "building tree 68 of 300\n",
      "building tree 69 of 300\n",
      "building tree 70 of 300\n",
      "building tree 71 of 300\n",
      "building tree 72 of 300\n",
      "building tree 73 of 300\n",
      "building tree 74 of 300\n",
      "building tree 75 of 300\n",
      "building tree 76 of 300\n",
      "building tree 77 of 300 building tree 78 of 300\n",
      "\n",
      "building tree 79 of 300\n",
      "building tree 80 of 300\n",
      "building tree 81 of 300\n",
      "building tree 82 of 300\n",
      "building tree 83 of 300\n",
      "building tree 84 of 300\n",
      "building tree 85 of 300\n",
      "building tree 86 of 300\n",
      "building tree 87 of 300\n",
      "building tree 88 of 300\n",
      "building tree 89 of 300\n",
      "building tree 90 of 300\n",
      "building tree 91 of 300\n",
      "building tree 92 of 300\n",
      "building tree 93 of 300\n",
      "building tree 94 of 300\n",
      "building tree 95 of 300\n",
      "building tree 96 of 300\n",
      "building tree 97 of 300\n",
      "building tree 98 of 300\n",
      "building tree 99 of 300\n",
      "building tree 100 of 300\n",
      "building tree 101 of 300\n",
      "building tree 102 of 300\n",
      "building tree 103 of 300\n",
      "building tree 104 of 300\n",
      "building tree 105 of 300\n",
      "building tree 106 of 300\n",
      "building tree 107 of 300\n",
      "building tree 108 of 300\n",
      "building tree 109 of 300\n",
      "building tree 110 of 300\n",
      "building tree 111 of 300\n",
      "building tree 112 of 300\n",
      "building tree 113 of 300\n",
      "building tree 114 of 300\n",
      "building tree 115 of 300\n",
      "building tree 116 of 300\n",
      "building tree 117 of 300\n",
      "building tree 118 of 300\n",
      "building tree 119 of 300\n",
      "building tree 120 of 300\n",
      "building tree 121 of 300\n",
      "building tree 122 of 300\n",
      "building tree 123 of 300\n",
      "building tree 124 of 300\n",
      "building tree 125 of 300\n",
      "building tree 126 of 300\n",
      "building tree 127 of 300\n",
      "building tree 128 of 300building tree 129 of 300\n",
      "\n",
      "building tree 130 of 300\n",
      "building tree 131 of 300\n",
      "building tree 132 of 300\n",
      "building tree 133 of 300\n",
      "building tree 134 of 300\n",
      "building tree 135 of 300\n",
      "building tree 136 of 300\n",
      "building tree 137 of 300\n",
      "building tree 138 of 300\n",
      "building tree 139 of 300\n",
      "building tree 140 of 300\n",
      "building tree 141 of 300\n",
      "building tree 142 of 300\n",
      "building tree 143 of 300 building tree 144 of 300\n",
      "\n",
      "building tree 145 of 300\n",
      "building tree 146 of 300\n",
      "building tree 147 of 300building tree 148 of 300\n",
      "\n",
      "building tree 149 of 300\n",
      "building tree 150 of 300\n",
      "building tree 151 of 300\n",
      "building tree 152 of 300\n",
      "building tree 153 of 300\n",
      "building tree 154 of 300\n",
      "building tree 155 of 300\n",
      "building tree 156 of 300\n",
      "building tree 157 of 300\n",
      "building tree 158 of 300\n",
      "building tree 159 of 300\n",
      "building tree 160 of 300\n"
     ]
    },
    {
     "name": "stderr",
     "output_type": "stream",
     "text": [
      "[Parallel(n_jobs=-1)]: Done 154 tasks      | elapsed:    7.3s\n"
     ]
    },
    {
     "name": "stdout",
     "output_type": "stream",
     "text": [
      "building tree 161 of 300\n",
      "building tree 162 of 300\n",
      "building tree 163 of 300\n",
      "building tree 164 of 300\n",
      "building tree 165 of 300\n",
      "building tree 166 of 300\n",
      "building tree 167 of 300\n",
      "building tree 168 of 300\n",
      "building tree 169 of 300\n",
      "building tree 170 of 300\n",
      "building tree 171 of 300\n",
      "building tree 172 of 300\n",
      "building tree 173 of 300\n",
      "building tree 174 of 300\n",
      "building tree 175 of 300\n",
      "building tree 176 of 300\n",
      "building tree 177 of 300\n",
      "building tree 178 of 300\n",
      "building tree 179 of 300\n",
      "building tree 180 of 300\n",
      "building tree 181 of 300\n",
      "building tree 182 of 300\n",
      "building tree 183 of 300\n",
      "building tree 184 of 300\n",
      "building tree 185 of 300\n",
      "building tree 186 of 300\n",
      "building tree 187 of 300\n",
      "building tree 188 of 300\n",
      "building tree 189 of 300\n",
      "building tree 190 of 300\n",
      "building tree 191 of 300\n",
      "building tree 192 of 300\n",
      "building tree 193 of 300\n",
      "building tree 194 of 300\n",
      "building tree 195 of 300\n",
      "building tree 196 of 300\n",
      "building tree 197 of 300\n",
      "building tree 198 of 300\n",
      "building tree 199 of 300\n",
      "building tree 200 of 300\n",
      "building tree 201 of 300\n",
      "building tree 202 of 300\n",
      "building tree 203 of 300\n",
      "building tree 204 of 300\n",
      " building tree 205 of 300\n",
      "building tree 206 of 300\n",
      "building tree 207 of 300\n",
      "building tree 208 of 300\n",
      "building tree 209 of 300\n",
      "building tree 210 of 300\n",
      "building tree 211 of 300\n",
      "building tree 212 of 300\n",
      "building tree 213 of 300\n",
      "building tree 214 of 300\n",
      "building tree 215 of 300\n",
      "building tree 216 of 300\n",
      "building tree 217 of 300\n",
      "building tree 218 of 300\n",
      "building tree 219 of 300\n",
      "building tree 220 of 300\n",
      "building tree 221 of 300\n",
      "building tree 222 of 300\n",
      "building tree 223 of 300\n",
      "building tree 224 of 300\n",
      "building tree 225 of 300\n",
      "building tree 226 of 300\n",
      "building tree 227 of 300\n",
      "building tree 228 of 300\n",
      "building tree 229 of 300\n",
      "building tree 230 of 300\n",
      "building tree 231 of 300 building tree 232 of 300\n",
      "\n",
      "building tree 233 of 300 building tree 234 of 300\n",
      "\n",
      "building tree 235 of 300\n",
      "building tree 236 of 300\n",
      "building tree 237 of 300\n",
      "building tree 238 of 300\n",
      "building tree 239 of 300\n",
      "building tree 240 of 300\n",
      "building tree 241 of 300\n",
      "building tree 242 of 300\n",
      "building tree 243 of 300\n",
      "building tree 244 of 300\n",
      "building tree 245 of 300\n",
      "building tree 246 of 300\n",
      "building tree 247 of 300\n",
      "building tree 248 of 300\n",
      "building tree 249 of 300\n",
      "building tree 250 of 300\n",
      "building tree 252 of 300building tree 251 of 300\n",
      "\n",
      "building tree 253 of 300\n",
      "building tree 254 of 300\n",
      "building tree 255 of 300\n",
      "building tree 256 of 300\n",
      " building tree 257 of 300\n",
      "building tree 258 of 300\n",
      "building tree 259 of 300\n",
      "building tree 260 of 300\n",
      "building tree 261 of 300\n",
      "building tree 262 of 300\n",
      "building tree 263 of 300\n",
      "building tree 264 of 300\n",
      "building tree 265 of 300\n",
      "building tree 266 of 300\n",
      "building tree 267 of 300\n",
      "building tree 268 of 300\n",
      "building tree 269 of 300\n",
      "building tree 270 of 300\n",
      "building tree 271 of 300\n",
      "building tree 272 of 300\n",
      "building tree 273 of 300\n",
      "building tree 274 of 300\n",
      "building tree 275 of 300building tree 276 of 300\n",
      "\n",
      "building tree 277 of 300\n",
      "building tree 278 of 300\n",
      "building tree 279 of 300\n",
      "building tree 280 of 300\n",
      "building tree 281 of 300\n",
      "building tree 282 of 300\n",
      "building tree 283 of 300\n",
      "building tree 284 of 300\n",
      "building tree 285 of 300\n",
      "building tree 286 of 300\n",
      "building tree 287 of 300\n",
      "building tree 288 of 300\n",
      "building tree 289 of 300\n",
      "building tree 290 of 300\n",
      "building tree 291 of 300\n",
      "building tree 292 of 300\n",
      "building tree 293 of 300\n",
      "building tree 294 of 300\n",
      "building tree 295 of 300\n",
      "building tree 296 of 300\n",
      "building tree 297 of 300\n",
      "building tree 298 of 300\n",
      " building tree 299 of 300\n",
      "building tree 300 of 300\n"
     ]
    },
    {
     "name": "stderr",
     "output_type": "stream",
     "text": [
      "[Parallel(n_jobs=-1)]: Done 300 out of 300 | elapsed:   13.9s finished\n"
     ]
    },
    {
     "name": "stdout",
     "output_type": "stream",
     "text": [
      "[ 0.24580056  0.11775572  0.02261215  0.02282315  0.01718015  0.01565229\n",
      "  0.03276508  0.01359934  0.01591128  0.01115445  0.01267975  0.01026318\n",
      "  0.02539569  0.02927914  0.00988467  0.01313687  0.01195593  0.01324102\n",
      "  0.01089845  0.01156719  0.0136406   0.01090242  0.01107598  0.01941047\n",
      "  0.01041338  0.01076688  0.0102405   0.01125189  0.01072794  0.01159518\n",
      "  0.01127889  0.01080916  0.01048025  0.00979251  0.01088052  0.0117471\n",
      "  0.01113031  0.01036071  0.01171354  0.01103037  0.0107862   0.01109842\n",
      "  0.01158577  0.01053418  0.01032946  0.01020111  0.01019893  0.00998337\n",
      "  0.01178766  0.01069021]\n"
     ]
    }
   ],
   "source": [
    "print(tfs_profanity_wc)\n",
    "print(pca.n_components_)\n",
    "tfs_post_pca = pca.transform(tfs_profanity_wc)\n",
    "\n",
    "X_train, X_test, y_train, y_test = train_test_split(tfs_post_pca, df['Year']-1965, test_size=0.2, random_state=2)\n",
    "\n",
    "rf = RandomForestRegressor(n_jobs=-1, random_state=0, n_estimators=300, max_features=20, verbose=2)\n",
    "rf.fit(X_train, y_train)\n",
    "print(rf.feature_importances_)"
   ]
  },
  {
   "cell_type": "code",
   "execution_count": 44,
   "metadata": {},
   "outputs": [
    {
     "name": "stderr",
     "output_type": "stream",
     "text": [
      "[Parallel(n_jobs=4)]: Done  33 tasks      | elapsed:    0.1s\n",
      "[Parallel(n_jobs=4)]: Done 154 tasks      | elapsed:    0.2s\n",
      "[Parallel(n_jobs=4)]: Done 300 out of 300 | elapsed:    0.7s finished\n"
     ]
    },
    {
     "data": {
      "text/plain": [
       "0.46324752976695094"
      ]
     },
     "execution_count": 44,
     "metadata": {},
     "output_type": "execute_result"
    }
   ],
   "source": [
    "rf.score(X_test, y_test)"
   ]
  },
  {
   "cell_type": "code",
   "execution_count": 80,
   "metadata": {
    "collapsed": true
   },
   "outputs": [],
   "source": [
    "nn = MLPRegressor(verbose=True, random_state=1, hidden_layer_sizes=(50,), alpha=0.0001, validation_fraction=0.2)"
   ]
  },
  {
   "cell_type": "code",
   "execution_count": 81,
   "metadata": {},
   "outputs": [
    {
     "name": "stdout",
     "output_type": "stream",
     "text": [
      "Iteration 1, loss = 1742.78846911\n",
      "Iteration 2, loss = 745.32051079\n",
      "Iteration 3, loss = 347.01342199\n",
      "Iteration 4, loss = 237.13485484\n",
      "Iteration 5, loss = 222.84565660\n",
      "Iteration 6, loss = 221.60883035\n",
      "Iteration 7, loss = 221.02137019\n",
      "Iteration 8, loss = 220.44736107\n",
      "Iteration 9, loss = 219.88814010\n",
      "Iteration 10, loss = 219.33325663\n",
      "Iteration 11, loss = 218.72080039\n",
      "Iteration 12, loss = 218.02489088\n",
      "Iteration 13, loss = 217.42820981\n",
      "Iteration 14, loss = 216.71466790\n",
      "Iteration 15, loss = 216.04122681\n",
      "Iteration 16, loss = 215.34318408\n",
      "Iteration 17, loss = 214.64500771\n",
      "Iteration 18, loss = 213.92289611\n",
      "Iteration 19, loss = 213.16850925\n",
      "Iteration 20, loss = 212.50501294\n",
      "Iteration 21, loss = 211.68643407\n",
      "Iteration 22, loss = 210.89943812\n",
      "Iteration 23, loss = 210.31261979\n",
      "Iteration 24, loss = 209.51558573\n",
      "Iteration 25, loss = 208.90198288\n",
      "Iteration 26, loss = 207.87166028\n",
      "Iteration 27, loss = 206.89184970\n",
      "Iteration 28, loss = 206.04020270\n",
      "Iteration 29, loss = 205.27857747\n",
      "Iteration 30, loss = 204.41708935\n",
      "Iteration 31, loss = 203.70760345\n",
      "Iteration 32, loss = 202.56580741\n",
      "Iteration 33, loss = 201.72644908\n",
      "Iteration 34, loss = 200.84770980\n",
      "Iteration 35, loss = 199.90138017\n",
      "Iteration 36, loss = 198.90984616\n",
      "Iteration 37, loss = 198.01420513\n",
      "Iteration 38, loss = 197.14877727\n",
      "Iteration 39, loss = 196.08093461\n",
      "Iteration 40, loss = 195.05336301\n",
      "Iteration 41, loss = 194.09033373\n",
      "Iteration 42, loss = 193.09279842\n",
      "Iteration 43, loss = 192.19564568\n",
      "Iteration 44, loss = 191.00810144\n",
      "Iteration 45, loss = 189.95252436\n",
      "Iteration 46, loss = 188.90859833\n",
      "Iteration 47, loss = 188.12282543\n",
      "Iteration 48, loss = 186.88204902\n",
      "Iteration 49, loss = 185.63050662\n",
      "Iteration 50, loss = 184.57971512\n",
      "Iteration 51, loss = 183.28280133\n",
      "Iteration 52, loss = 182.11880524\n",
      "Iteration 53, loss = 180.80533392\n",
      "Iteration 54, loss = 179.50803512\n",
      "Iteration 55, loss = 178.29664375\n",
      "Iteration 56, loss = 177.19911034\n",
      "Iteration 57, loss = 175.32200823\n",
      "Iteration 58, loss = 173.39706360\n",
      "Iteration 59, loss = 171.42753905\n",
      "Iteration 60, loss = 170.03112747\n",
      "Iteration 61, loss = 168.48799655\n",
      "Iteration 62, loss = 166.80479996\n",
      "Iteration 63, loss = 165.16672570\n",
      "Iteration 64, loss = 163.56152538\n",
      "Iteration 65, loss = 161.73198073\n",
      "Iteration 66, loss = 160.03295819\n",
      "Iteration 67, loss = 158.17357726\n",
      "Iteration 68, loss = 156.78351350\n",
      "Iteration 69, loss = 155.09979863\n",
      "Iteration 70, loss = 152.91855369\n",
      "Iteration 71, loss = 151.10338731\n",
      "Iteration 72, loss = 149.09366449\n",
      "Iteration 73, loss = 147.53038040\n",
      "Iteration 74, loss = 145.46671604\n",
      "Iteration 75, loss = 143.54276301\n",
      "Iteration 76, loss = 141.49574034\n",
      "Iteration 77, loss = 139.63222391\n",
      "Iteration 78, loss = 137.59459619\n",
      "Iteration 79, loss = 135.96107505\n",
      "Iteration 80, loss = 133.70594149\n",
      "Iteration 81, loss = 131.59189715\n",
      "Iteration 82, loss = 129.33743328\n",
      "Iteration 83, loss = 126.47750851\n",
      "Iteration 84, loss = 123.82461193\n",
      "Iteration 85, loss = 122.00833423\n",
      "Iteration 86, loss = 120.26891398\n",
      "Iteration 87, loss = 117.75157937\n",
      "Iteration 88, loss = 115.71735813\n",
      "Iteration 89, loss = 113.57242057\n",
      "Iteration 90, loss = 111.67741881\n",
      "Iteration 91, loss = 109.65062718\n",
      "Iteration 92, loss = 107.86139934\n",
      "Iteration 93, loss = 105.87713580\n",
      "Iteration 94, loss = 104.59727629\n",
      "Iteration 95, loss = 102.35822627\n",
      "Iteration 96, loss = 100.44136765\n",
      "Iteration 97, loss = 99.00201572\n",
      "Iteration 98, loss = 97.27988303\n",
      "Iteration 99, loss = 95.01118394\n",
      "Iteration 100, loss = 93.60262702\n",
      "Iteration 101, loss = 91.51511683\n",
      "Iteration 102, loss = 88.40280109\n",
      "Iteration 103, loss = 86.36228902\n",
      "Iteration 104, loss = 84.67090140\n",
      "Iteration 105, loss = 83.66906016\n",
      "Iteration 106, loss = 82.26360733\n",
      "Iteration 107, loss = 80.97483180\n",
      "Iteration 108, loss = 79.82936101\n",
      "Iteration 109, loss = 78.32810713\n",
      "Iteration 110, loss = 77.24264746\n",
      "Iteration 111, loss = 76.19454056\n",
      "Iteration 112, loss = 74.84897970\n",
      "Iteration 113, loss = 74.11717668\n",
      "Iteration 114, loss = 73.08199228\n",
      "Iteration 115, loss = 72.34983874\n",
      "Iteration 116, loss = 71.48887840\n",
      "Iteration 117, loss = 71.03492657\n",
      "Iteration 118, loss = 70.55449996\n",
      "Iteration 119, loss = 69.67622077\n",
      "Iteration 120, loss = 68.72415820\n",
      "Iteration 121, loss = 68.45493750\n",
      "Iteration 122, loss = 67.72511305\n",
      "Iteration 123, loss = 66.92831123\n",
      "Iteration 124, loss = 67.02506696\n",
      "Iteration 125, loss = 66.83603554\n",
      "Iteration 126, loss = 65.29835241\n",
      "Iteration 127, loss = 65.46916793\n",
      "Iteration 128, loss = 64.61559776\n",
      "Iteration 129, loss = 64.97450216\n",
      "Iteration 130, loss = 63.48974725\n",
      "Iteration 131, loss = 62.46134290\n",
      "Iteration 132, loss = 62.48228857\n",
      "Iteration 133, loss = 62.08317091\n",
      "Iteration 134, loss = 62.15308405\n",
      "Iteration 135, loss = 61.45665143\n",
      "Iteration 136, loss = 61.11882523\n",
      "Iteration 137, loss = 61.37872898\n",
      "Iteration 138, loss = 60.76733104\n",
      "Iteration 139, loss = 60.56094921\n",
      "Iteration 140, loss = 60.42372761\n",
      "Iteration 141, loss = 60.28064360\n",
      "Iteration 142, loss = 59.91035105\n",
      "Iteration 143, loss = 59.91625210\n",
      "Iteration 144, loss = 59.71661355\n",
      "Iteration 145, loss = 59.49476728\n",
      "Iteration 146, loss = 59.35965454\n",
      "Iteration 147, loss = 59.13846222\n",
      "Iteration 148, loss = 59.29355959\n",
      "Iteration 149, loss = 59.12368234\n",
      "Iteration 150, loss = 58.96215555\n",
      "Iteration 151, loss = 58.86393986\n",
      "Iteration 152, loss = 58.72604999\n",
      "Iteration 153, loss = 58.79242993\n",
      "Iteration 154, loss = 58.33186867\n",
      "Iteration 155, loss = 58.57597818\n",
      "Iteration 156, loss = 58.40790963\n",
      "Iteration 157, loss = 58.76661701\n",
      "Training loss did not improve more than tol=0.000100 for two consecutive epochs. Stopping.\n"
     ]
    },
    {
     "data": {
      "text/plain": [
       "MLPRegressor(activation='relu', alpha=0.0001, batch_size='auto', beta_1=0.9,\n",
       "       beta_2=0.999, early_stopping=False, epsilon=1e-08,\n",
       "       hidden_layer_sizes=(50,), learning_rate='constant',\n",
       "       learning_rate_init=0.001, max_iter=200, momentum=0.9,\n",
       "       nesterovs_momentum=True, power_t=0.5, random_state=1, shuffle=True,\n",
       "       solver='adam', tol=0.0001, validation_fraction=0.2, verbose=True,\n",
       "       warm_start=False)"
      ]
     },
     "execution_count": 81,
     "metadata": {},
     "output_type": "execute_result"
    }
   ],
   "source": [
    "nn.fit(X_train, y_train)"
   ]
  },
  {
   "cell_type": "code",
   "execution_count": 82,
   "metadata": {},
   "outputs": [
    {
     "data": {
      "text/plain": [
       "0.46644313957765082"
      ]
     },
     "execution_count": 82,
     "metadata": {},
     "output_type": "execute_result"
    }
   ],
   "source": [
    "nn.score(X_test, y_test)"
   ]
  },
  {
   "cell_type": "code",
   "execution_count": null,
   "metadata": {
    "collapsed": true
   },
   "outputs": [],
   "source": []
  }
 ],
 "metadata": {
  "kernelspec": {
   "display_name": "Python 2",
   "language": "python",
   "name": "python2"
  },
  "language_info": {
   "codemirror_mode": {
    "name": "ipython",
    "version": 2
   },
   "file_extension": ".py",
   "mimetype": "text/x-python",
   "name": "python",
   "nbconvert_exporter": "python",
   "pygments_lexer": "ipython2",
   "version": "2.7.10"
  }
 },
 "nbformat": 4,
 "nbformat_minor": 2
}
