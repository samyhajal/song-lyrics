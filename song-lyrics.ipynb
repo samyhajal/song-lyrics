{
 "cells": [
  {
   "cell_type": "code",
   "execution_count": 1,
   "metadata": {},
   "outputs": [
    {
     "name": "stderr",
     "output_type": "stream",
     "text": [
      "/Library/Python/2.7/site-packages/sklearn/cross_validation.py:44: DeprecationWarning: This module was deprecated in version 0.18 in favor of the model_selection module into which all the refactored classes and functions are moved. Also note that the interface of the new CV iterators are different from that of this module. This module will be removed in 0.20.\n",
      "  \"This module will be removed in 0.20.\", DeprecationWarning)\n",
      "/Library/Python/2.7/site-packages/sklearn/grid_search.py:43: DeprecationWarning: This module was deprecated in version 0.18 in favor of the model_selection module into which all the refactored classes and functions are moved. This module will be removed in 0.20.\n",
      "  DeprecationWarning)\n"
     ]
    }
   ],
   "source": [
    "import numpy as np\n",
    "import nltk\n",
    "import string\n",
    "import os\n",
    "import pandas\n",
    "import matplotlib.pyplot as plt\n",
    "\n",
    "from sklearn.feature_extraction.text import CountVectorizer, TfidfVectorizer\n",
    "from sklearn.linear_model import LinearRegression\n",
    "from sklearn.model_selection import train_test_split\n",
    "from sklearn.metrics import r2_score\n",
    "from sklearn.ensemble import RandomForestRegressor\n",
    "from sklearn.neural_network import MLPRegressor\n",
    "from sklearn.grid_search import GridSearchCV\n",
    "from sklearn.feature_extraction.text import TfidfVectorizer\n",
    "\n",
    "from nltk.stem.porter import PorterStemmer\n",
    "from nltk.corpus import stopwords\n",
    "\n",
    "from scipy.interpolate import interp1d"
   ]
  },
  {
   "cell_type": "code",
   "execution_count": 2,
   "metadata": {},
   "outputs": [
    {
     "name": "stdout",
     "output_type": "stream",
     "text": [
      "(4988, 4)\n",
      "0        Ooh, sugar pie, honey bunch\\nYou know that I ...\n",
      "4109     go away from my window leave at your own chos...\n",
      "4110    vic dana miscellaneous red roses for a blue la...\n",
      "4111    please dont just stand there come and kiss me ...\n",
      "4112    little things that you do  make me glad im in ...\n",
      "Name: Lyrics, dtype: object\n"
     ]
    },
    {
     "name": "stderr",
     "output_type": "stream",
     "text": [
      "/Library/Python/2.7/site-packages/ipykernel_launcher.py:2: FutureWarning: sort(columns=....) is deprecated, use sort_values(by=.....)\n",
      "  \n"
     ]
    }
   ],
   "source": [
    "df = pandas.read_csv('merged.csv')\n",
    "df_sorted = df.sort(['Year'], ascending=[1])\n",
    "print(df_sorted.shape)\n",
    "print(df_sorted['Lyrics'].head())"
   ]
  },
  {
   "cell_type": "code",
   "execution_count": 3,
   "metadata": {},
   "outputs": [
    {
     "name": "stdout",
     "output_type": "stream",
     "text": [
      "R2 score: 0.26493386708\n"
     ]
    },
    {
     "data": {
      "image/png": "[encoded data removed]",
      "text/plain": [
       "<matplotlib.figure.Figure at 0x10ccb9050>"
      ]
     },
     "metadata": {},
     "output_type": "display_data"
    }
   ],
   "source": [
    "### Benchmark Model\n",
    "\n",
    "# Count the number of words in each song\n",
    "word_counts = [len(row[1]['Lyrics'].replace('\\n', ' ').split()) for row in df_sorted.iterrows()]\n",
    "X_bench = np.array(word_counts).reshape((len(word_counts), 1))\n",
    "y_bench = df_sorted['Year']\n",
    "\n",
    "# Train test split for benchmark\n",
    "X_train_b, X_test_b, y_train_b, y_test_b = train_test_split(X_bench, y_bench, test_size=0.2, random_state=1)\n",
    "\n",
    "# Initiliaze and train the benchmar model\n",
    "benchmark_model = LinearRegression()\n",
    "benchmark_model.fit(X_train_b, y_train_b)\n",
    "\n",
    "# Predict year using the benchmark and print r2 score\n",
    "y_pred = benchmark_model.predict(X_test_b)\n",
    "print('R2 score: {}'.format(r2_score(y_test_b, y_pred)))\n",
    "\n",
    "# Plot word count average per year\n",
    "aggregations = {'Lyrics': lambda x: np.mean([len(r.replace('\\n', ' ').split()) for r in x])}\n",
    "\n",
    "word_count_avg_per_year = df_sorted.groupby('Year').agg(aggregations)\n",
    "x = range(1965, 2016)\n",
    "\n",
    "# Interpolate the function\n",
    "f = interp1d(np.array(x), np.array(word_count_avg_per_year).squeeze(), kind='cubic')\n",
    "x_interp = np.linspace(1965, 2015, num=8, endpoint=True)\n",
    "\n",
    "# Plot\n",
    "plt.plot(x, word_count_avg_per_year, 'o', x_interp, f(x_interp), '-', color='green', markerfacecolor='blue', markersize=5)\n",
    "plt.show()\n",
    "\n"
   ]
  },
  {
   "cell_type": "code",
   "execution_count": 4,
   "metadata": {},
   "outputs": [
    {
     "data": {
      "text/plain": [
       "(4988, 2000)"
      ]
     },
     "execution_count": 4,
     "metadata": {},
     "output_type": "execute_result"
    }
   ],
   "source": [
    "### Vectorizing the data\n",
    "\n",
    "stemmer = PorterStemmer()\n",
    "\n",
    "def stem_tokens(tokens, stemmer):\n",
    "    stemmed = []\n",
    "    for item in tokens:\n",
    "        stemmed.append(stemmer.stem(item))\n",
    "    return stemmed\n",
    "\n",
    "def tokenize(text):\n",
    "    tokens = nltk.word_tokenize(text)\n",
    "    tokens_filtered = filter(lambda w: not w in set(stopwords.words('english')), tokens)\n",
    "    stems = stem_tokens(tokens_filtered, stemmer)\n",
    "    return stems\n",
    "\n",
    "result = []\n",
    "\n",
    "for row in df.iterrows():\n",
    "    text = row[1]['Lyrics']\n",
    "    lowers = text.lower()\n",
    "    no_punctuation = lowers.translate(None, string.punctuation)\n",
    "    result.append(no_punctuation)\n",
    "\n",
    "tfidf = TfidfVectorizer(tokenizer=tokenize, stop_words='english', encoding='latin-1', max_features=2000, binary=True, sublinear_tf=True)\n",
    "tfs = tfidf.fit_transform(result)\n",
    "tfs.shape"
   ]
  },
  {
   "cell_type": "code",
   "execution_count": 151,
   "metadata": {},
   "outputs": [
    {
     "data": {
      "text/plain": [
       "[u'babi',\n",
       " u'dont',\n",
       " u'got',\n",
       " u'im',\n",
       " u'know',\n",
       " u'like',\n",
       " u'love',\n",
       " u'na',\n",
       " u'oh',\n",
       " u'yeah']"
      ]
     },
     "execution_count": 151,
     "metadata": {},
     "output_type": "execute_result"
    }
   ],
   "source": [
    "tfidf.get_feature_names()"
   ]
  },
  {
   "cell_type": "code",
   "execution_count": 138,
   "metadata": {},
   "outputs": [],
   "source": [
    "### Adding relevant features\n",
    "import profanityfilter\n",
    "profanityfilter.append_words(['skeet', 'hoe', 'hoes', 'thot', 'thots', 'niggas', 'niggaz', 'shits', 'mothafuckin'])\n",
    "\n",
    "# Compute profanity count average per year\n",
    "aggregations = {\n",
    "    'Lyrics': lambda year: np.mean([sum([r.replace('\\n', ' ').lower().translate(None, string.punctuation).split().count(p.lower()) for p in profanityfilter.get_bad_words()]) for r in year])\n",
    "}\n",
    "\n",
    "profanity_count_avg_per_year = df_sorted.groupby('Year').agg(aggregations)"
   ]
  },
  {
   "cell_type": "code",
   "execution_count": 144,
   "metadata": {},
   "outputs": [
    {
     "data": {
      "image/png": "[encoded data removed]",
      "text/plain": [
       "<matplotlib.figure.Figure at 0x1086aeb10>"
      ]
     },
     "metadata": {},
     "output_type": "display_data"
    }
   ],
   "source": [
    "# Interpolate the function\n",
    "f_prof = interp1d(np.array(x), np.array(profanity_count_avg_per_year).squeeze(), kind='cubic')\n",
    "x_prof_interp = np.linspace(1965, 2015, num=9, endpoint=True)\n",
    "\n",
    "# Plot profanity average per year\n",
    "plt.plot(x, profanity_count_avg_per_year, 'o', x_prof_interp, f_prof(x_prof_interp), '-', color='green', markerfacecolor='blue', markersize=5)\n",
    "plt.show()"
   ]
  },
  {
   "cell_type": "code",
   "execution_count": 145,
   "metadata": {},
   "outputs": [],
   "source": [
    "profanity_count = [sum([r.split().count(p.lower()) for p in profanityfilter.get_bad_words()]) for r in result]"
   ]
  },
  {
   "cell_type": "code",
   "execution_count": 6,
   "metadata": {},
   "outputs": [
    {
     "name": "stdout",
     "output_type": "stream",
     "text": [
      "y_train samples:\n",
      "1147    1981\n",
      "4380    1975\n",
      "1714    1988\n",
      "236     1968\n",
      "4578    1984\n",
      "Name: Year, dtype: int64\n"
     ]
    }
   ],
   "source": [
    "# tfs_extra = np.concatenate((np.array(profanity_count).reshape(len(profanity_count), 1), tfs.toarray()), axis=1)\n",
    "# print('Dataset shape: {}\\n'.format(tfs_extra.shape))\n",
    "\n",
    "X_train, X_test, y_train, y_test = train_test_split(tfs, df['Year'], test_size=0.2, random_state=1)\n",
    "print('y_train samples:')\n",
    "print(y_train.head())"
   ]
  },
  {
   "cell_type": "code",
   "execution_count": 142,
   "metadata": {},
   "outputs": [],
   "source": [
    "def fit_model(regressor, params, X, y):\n",
    "    \"\"\" Performs grid search over the 'max_depth' parameter for a \n",
    "        decision tree regressor trained on the input data [X, y]. \"\"\"\n",
    "    \n",
    "    # Create cross-validation sets from the training data\n",
    "    cv_sets = ShuffleSplit(X.shape[0], n_iter = 10, test_size = 0.20, random_state = 0)\n",
    "\n",
    "    # TODO: Create the grid search object\n",
    "    grid = GridSearchCV(regressor, params, scoring=r2_score, cv=cv_sets)\n",
    "\n",
    "    # Fit the grid search object to the data to compute the optimal model\n",
    "    grid = grid.fit(X, y)\n",
    "\n",
    "    # Return the optimal model after fitting the data\n",
    "    return grid.best_estimator_"
   ]
  },
  {
   "cell_type": "code",
   "execution_count": null,
   "metadata": {},
   "outputs": [
    {
     "name": "stdout",
     "output_type": "stream",
     "text": [
      "building tree 1 of 200\n",
      "building tree 3 of 200building tree 2 of 200\n",
      "\n",
      "building tree 4 of 200\n",
      "building tree 5 of 200\n",
      "building tree 6 of 200\n",
      "building tree 7 of 200\n",
      "building tree 8 of 200\n",
      "building tree 9 of 200\n",
      "building tree 10 of 200\n",
      "building tree 11 of 200\n",
      "building tree 12 of 200\n",
      "building tree 13 of 200\n",
      "building tree 14 of 200\n",
      "building tree 15 of 200\n",
      "building tree 16 of 200\n",
      "building tree 17 of 200\n",
      "building tree 18 of 200\n",
      "building tree 19 of 200\n",
      "building tree 20 of 200\n",
      "building tree 21 of 200\n",
      "building tree 22 of 200\n",
      "building tree 23 of 200\n",
      "building tree 24 of 200\n",
      "building tree 25 of 200\n",
      "building tree 26 of 200\n",
      "building tree 27 of 200\n",
      "building tree 28 of 200\n",
      "building tree 29 of 200\n",
      "building tree 30 of 200\n",
      "building tree 31 of 200\n",
      "building tree 32 of 200\n",
      "building tree 33 of 200\n",
      "building tree 34 of 200\n",
      "building tree 35 of 200\n",
      "building tree 36 of 200\n"
     ]
    },
    {
     "name": "stderr",
     "output_type": "stream",
     "text": [
      "[Parallel(n_jobs=-1)]: Done  33 tasks      | elapsed:   10.8s\n"
     ]
    },
    {
     "name": "stdout",
     "output_type": "stream",
     "text": [
      "building tree 37 of 200\n",
      "building tree 38 of 200\n",
      "building tree 39 of 200\n",
      "building tree 40 of 200\n",
      "building tree 41 of 200\n",
      "building tree 42 of 200\n",
      "building tree 43 of 200\n",
      "building tree 44 of 200\n",
      "building tree 45 of 200\n",
      "building tree 46 of 200\n",
      "building tree 47 of 200\n",
      "building tree 48 of 200\n",
      "building tree 49 of 200\n",
      "building tree 50 of 200\n",
      "building tree 51 of 200\n",
      "building tree 52 of 200\n",
      "building tree 53 of 200\n",
      "building tree 54 of 200\n",
      "building tree 55 of 200\n",
      "building tree 56 of 200\n",
      "building tree 57 of 200\n",
      "building tree 58 of 200\n",
      "building tree 59 of 200\n",
      "building tree 60 of 200\n",
      "building tree 61 of 200\n",
      "building tree 62 of 200\n",
      "building tree 63 of 200\n",
      "building tree 64 of 200\n",
      "building tree 65 of 200\n",
      "building tree 66 of 200\n",
      "building tree 67 of 200\n",
      "building tree 68 of 200\n",
      "building tree 69 of 200\n",
      "building tree 70 of 200\n",
      "building tree 71 of 200\n",
      "building tree 72 of 200\n",
      "building tree 73 of 200\n",
      "building tree 74 of 200\n",
      "building tree 75 of 200\n",
      "building tree 76 of 200\n",
      "building tree 77 of 200\n",
      "building tree 78 of 200\n",
      "building tree 79 of 200\n",
      "building tree 80 of 200\n",
      "building tree 81 of 200\n",
      "building tree 82 of 200\n",
      "building tree 83 of 200\n",
      "building tree 84 of 200\n",
      "building tree 85 of 200\n",
      "building tree 86 of 200\n",
      "building tree 87 of 200\n",
      "building tree 88 of 200\n",
      "building tree 89 of 200\n",
      "building tree 90 of 200\n",
      "building tree 91 of 200\n",
      "building tree 92 of 200\n",
      "building tree 93 of 200\n",
      "building tree 94 of 200\n",
      "building tree 95 of 200\n",
      "building tree 96 of 200\n",
      "building tree 97 of 200\n",
      "building tree 98 of 200\n",
      "building tree 99 of 200\n",
      "building tree 100 of 200\n",
      "building tree 101 of 200\n",
      "building tree 102 of 200\n",
      "building tree 103 of 200\n",
      "building tree 104 of 200\n",
      "building tree 105 of 200\n",
      "building tree 106 of 200\n",
      "building tree 107 of 200\n",
      "building tree 108 of 200\n",
      "building tree 109 of 200\n",
      "building tree 110 of 200\n",
      "building tree 111 of 200\n",
      "building tree 112 of 200\n",
      "building tree 113 of 200\n",
      "building tree 114 of 200\n",
      "building tree 115 of 200\n",
      "building tree 116 of 200\n",
      "building tree 117 of 200\n",
      "building tree 118 of 200\n",
      "building tree 119 of 200\n",
      "building tree 120 of 200\n",
      "building tree 121 of 200\n",
      "building tree 123 of 200\n",
      "building tree 122 of 200\n",
      "building tree 124 of 200\n",
      "building tree 125 of 200\n",
      "building tree 126 of 200\n",
      "building tree 127 of 200\n",
      "building tree 128 of 200\n",
      "building tree 129 of 200\n",
      "building tree 130 of 200\n",
      "building tree 131 of 200\n",
      "building tree 132 of 200\n",
      "building tree 133 of 200\n",
      "building tree 134 of 200\n",
      "building tree 135 of 200\n",
      "building tree 136 of 200\n",
      "building tree 137 of 200\n",
      "building tree 138 of 200\n",
      "building tree 139 of 200\n",
      "building tree 140 of 200\n",
      "building tree 141 of 200\n",
      "building tree 142 of 200\n",
      "building tree 143 of 200\n",
      "building tree 144 of 200\n",
      "building tree 145 of 200\n",
      "building tree 146 of 200building tree 147 of 200\n",
      "\n",
      "building tree 148 of 200\n",
      "building tree 149 of 200\n",
      "building tree 150 of 200building tree 151 of 200\n",
      "\n",
      "building tree 152 of 200\n",
      "building tree 153 of 200\n",
      "building tree 154 of 200\n",
      "building tree 155 of 200\n",
      "building tree 156 of 200\n",
      "building tree 157 of 200\n",
      "building tree 158 of 200\n"
     ]
    },
    {
     "name": "stderr",
     "output_type": "stream",
     "text": [
      "[Parallel(n_jobs=-1)]: Done 154 tasks      | elapsed:   43.9s\n"
     ]
    },
    {
     "name": "stdout",
     "output_type": "stream",
     "text": [
      "building tree 159 of 200\n",
      "building tree 160 of 200\n",
      "building tree 161 of 200\n",
      "building tree 162 of 200\n",
      "building tree 163 of 200\n",
      "building tree 164 of 200\n",
      "building tree 165 of 200\n",
      "building tree 166 of 200\n",
      "building tree 167 of 200\n",
      "building tree 168 of 200\n",
      "building tree 169 of 200\n",
      "building tree 170 of 200\n",
      "building tree 171 of 200\n",
      "building tree 172 of 200\n",
      "building tree 173 of 200\n",
      "building tree 174 of 200\n",
      "building tree 175 of 200\n",
      "building tree 176 of 200\n",
      "building tree 177 of 200\n"
     ]
    }
   ],
   "source": [
    "param_rf = {}\n",
    "rf = RandomForestRegressor(n_jobs=-1, random_state=0, n_estimators=200, max_features=1000, verbose=2)\n",
    "\n",
    "rf.fit(X_train, y_train)"
   ]
  },
  {
   "cell_type": "code",
   "execution_count": 9,
   "metadata": {},
   "outputs": [
    {
     "name": "stderr",
     "output_type": "stream",
     "text": [
      "[Parallel(n_jobs=4)]: Done  33 tasks      | elapsed:    0.0s\n",
      "[Parallel(n_jobs=4)]: Done 100 out of 100 | elapsed:    0.1s finished\n"
     ]
    },
    {
     "data": {
      "text/plain": [
       "0.35305270616198525"
      ]
     },
     "execution_count": 9,
     "metadata": {},
     "output_type": "execute_result"
    }
   ],
   "source": [
    "rf.score(X_test, y_test)"
   ]
  },
  {
   "cell_type": "code",
   "execution_count": 114,
   "metadata": {},
   "outputs": [
    {
     "name": "stdout",
     "output_type": "stream",
     "text": [
      "[   0.    5.    3.    2.    3.    4.   84.    0.    3.    0.    2.    1.\n",
      "    1.    3.    2.    1.    4.    4.   19.    6.    0.    0.    0.    0.\n",
      "    0.    4.    0.    0.    0.    0.    4.    8.    0.    2.    0.    0.\n",
      "    6.   71.    0.    4.    0.    7.    7.    0.    1.    0.   52.    0.\n",
      "    2.    0.    0.    0.    9.    0.   31.    0.    1.    0.   89.    0.\n",
      "    0.    0.    0.    1.   30.    0.    0.   14.    4.    0.    1.    3.\n",
      "   12.    0.    0.    3.   24.    3.    0.    0.    4.    8.    0.    7.\n",
      "    4.    0.    0.    0.    0.   29.   47.    0.   15.   17.    6.   26.\n",
      "    0.    0.    0.    3.    0.    0.    0.    3.    0.    0.    0.    0.\n",
      "    0.    0.    2.    0.    4.    0.   62.    0.    0.   30.    0.    0.\n",
      "    0.    2.    0.    1.    0.    3.    1.    0.    1.    0.    0.    5.\n",
      "    0.    0.  138.   13.    0.    0.    0.    0.    0.   83.    2.    2.\n",
      "    3.    0.    0.    3.    0.    7.    1.    0.    0.    0.    0.    0.\n",
      "    0.   21.    0.    0.    0.    0.    0.   36.    2.    0.    0.    0.\n",
      "    9.    0.    0.    6.    1.  144.    0.    0.    0.    0.    0.    6.\n",
      "    0.    0.    0.    0.    0.   47.    0.  141.    3.    0.    0.    0.\n",
      "    0.    0.    0.    1.    0.    0.    2.]\n"
     ]
    }
   ],
   "source": [
    "print(tfs_extra[4500:4699,0])"
   ]
  },
  {
   "cell_type": "code",
   "execution_count": 116,
   "metadata": {},
   "outputs": [
    {
     "name": "stdout",
     "output_type": "stream",
     "text": [
      "set([])\n"
     ]
    }
   ],
   "source": [
    "print(tfidf.stop_words_)"
   ]
  },
  {
   "cell_type": "code",
   "execution_count": 129,
   "metadata": {},
   "outputs": [],
   "source": [
    "nn = MLPRegressor(verbose=True, random_state=0)"
   ]
  },
  {
   "cell_type": "code",
   "execution_count": 131,
   "metadata": {},
   "outputs": [
    {
     "name": "stdout",
     "output_type": "stream",
     "text": [
      "Iteration 1, loss = 417.19044830\n",
      "Iteration 2, loss = 392.29534311\n",
      "Iteration 3, loss = 360.19133853\n",
      "Iteration 4, loss = 321.87268726\n",
      "Iteration 5, loss = 279.35717593\n",
      "Iteration 6, loss = 236.82128912\n",
      "Iteration 7, loss = 196.82603948\n",
      "Iteration 8, loss = 163.55804271\n",
      "Iteration 9, loss = 137.71566626\n",
      "Iteration 10, loss = 120.12403721\n",
      "Iteration 11, loss = 109.25877706\n",
      "Iteration 12, loss = 102.96874510\n",
      "Iteration 13, loss = 99.26657544\n",
      "Iteration 14, loss = 96.78552607\n",
      "Iteration 15, loss = 94.70294273\n",
      "Iteration 16, loss = 92.86107548\n",
      "Iteration 17, loss = 91.04303567\n",
      "Iteration 18, loss = 89.31344340\n",
      "Iteration 19, loss = 87.56512253\n",
      "Iteration 20, loss = 85.77912795\n",
      "Iteration 21, loss = 83.94439747\n",
      "Iteration 22, loss = 82.09259720\n",
      "Iteration 23, loss = 80.25870289\n",
      "Iteration 24, loss = 78.42426679\n",
      "Iteration 25, loss = 76.56594769\n",
      "Iteration 26, loss = 74.70570582\n",
      "Iteration 27, loss = 72.85642141\n",
      "Iteration 28, loss = 71.02563123\n",
      "Iteration 29, loss = 69.21688291\n",
      "Iteration 30, loss = 67.43792711\n",
      "Iteration 31, loss = 65.70455867\n",
      "Iteration 32, loss = 63.94127875\n",
      "Iteration 33, loss = 62.20376471\n",
      "Iteration 34, loss = 60.50448446\n",
      "Iteration 35, loss = 58.83329611\n",
      "Iteration 36, loss = 57.21206783\n",
      "Iteration 37, loss = 55.61093799\n",
      "Iteration 38, loss = 53.97571833\n",
      "Iteration 39, loss = 52.37478018\n",
      "Iteration 40, loss = 50.73963904\n",
      "Iteration 41, loss = 49.14433809\n",
      "Iteration 42, loss = 47.54868860\n",
      "Iteration 43, loss = 46.03949012\n",
      "Iteration 44, loss = 44.55940359\n",
      "Iteration 45, loss = 43.15954289\n",
      "Iteration 46, loss = 41.80687098\n",
      "Iteration 47, loss = 40.51984867\n",
      "Iteration 48, loss = 39.26443496\n",
      "Iteration 49, loss = 38.12242208\n",
      "Iteration 50, loss = 36.99533239\n",
      "Iteration 51, loss = 35.96632050\n",
      "Iteration 52, loss = 34.95881657\n",
      "Iteration 53, loss = 34.02115723\n",
      "Iteration 54, loss = 33.10783802\n",
      "Iteration 55, loss = 32.22377972\n",
      "Iteration 56, loss = 31.41368982\n",
      "Iteration 57, loss = 30.59457298\n",
      "Iteration 58, loss = 29.84095246\n",
      "Iteration 59, loss = 29.09531459\n",
      "Iteration 60, loss = 28.38659235\n",
      "Iteration 61, loss = 27.70685583\n",
      "Iteration 62, loss = 27.06963475\n",
      "Iteration 63, loss = 26.42798630\n",
      "Iteration 64, loss = 25.83336978\n",
      "Iteration 65, loss = 25.25238691\n",
      "Iteration 66, loss = 24.68901150\n",
      "Iteration 67, loss = 24.15535477\n",
      "Iteration 68, loss = 23.63206269\n",
      "Iteration 69, loss = 23.13512465\n",
      "Iteration 70, loss = 22.64973096\n",
      "Iteration 71, loss = 22.19500674\n",
      "Iteration 72, loss = 21.74400021\n",
      "Iteration 73, loss = 21.30364277\n",
      "Iteration 74, loss = 20.87093031\n",
      "Iteration 75, loss = 20.47189746\n",
      "Iteration 76, loss = 20.07634866\n",
      "Iteration 77, loss = 19.70910698\n",
      "Iteration 78, loss = 19.33303897\n",
      "Iteration 79, loss = 18.96425336\n",
      "Iteration 80, loss = 18.62409566\n",
      "Iteration 81, loss = 18.28546823\n",
      "Iteration 82, loss = 17.96901286\n",
      "Iteration 83, loss = 17.63325205\n",
      "Iteration 84, loss = 17.31934611\n",
      "Iteration 85, loss = 17.02438097\n",
      "Iteration 86, loss = 16.71991358\n",
      "Iteration 87, loss = 16.45395477\n",
      "Iteration 88, loss = 16.16396737\n",
      "Iteration 89, loss = 15.88948704\n",
      "Iteration 90, loss = 15.62779760\n",
      "Iteration 91, loss = 15.38155196\n",
      "Iteration 92, loss = 15.12468244\n",
      "Iteration 93, loss = 14.87615977\n",
      "Iteration 94, loss = 14.63770883\n",
      "Iteration 95, loss = 14.41634212\n",
      "Iteration 96, loss = 14.17987921\n",
      "Iteration 97, loss = 13.97176873\n",
      "Iteration 98, loss = 13.74165284\n",
      "Iteration 99, loss = 13.53125622\n",
      "Iteration 100, loss = 13.32314121\n",
      "Iteration 101, loss = 13.12696042\n",
      "Iteration 102, loss = 12.91391072\n",
      "Iteration 103, loss = 12.73026230\n",
      "Iteration 104, loss = 12.54386261\n",
      "Iteration 105, loss = 12.37456888\n",
      "Iteration 106, loss = 12.18101245\n",
      "Iteration 107, loss = 11.99990881\n",
      "Iteration 108, loss = 11.82176199\n",
      "Iteration 109, loss = 11.65522599\n",
      "Iteration 110, loss = 11.49170865\n",
      "Iteration 111, loss = 11.32356173\n",
      "Iteration 112, loss = 11.16554392\n",
      "Iteration 113, loss = 11.00690101\n",
      "Iteration 114, loss = 10.84763099\n",
      "Iteration 115, loss = 10.69700340\n",
      "Iteration 116, loss = 10.56375774\n",
      "Iteration 117, loss = 10.41282489\n",
      "Iteration 118, loss = 10.26738879\n",
      "Iteration 119, loss = 10.11893411\n",
      "Iteration 120, loss = 9.98649894\n",
      "Iteration 121, loss = 9.85348396\n",
      "Iteration 122, loss = 9.71972717\n",
      "Iteration 123, loss = 9.59821539\n",
      "Iteration 124, loss = 9.46711983\n",
      "Iteration 125, loss = 9.34044733\n",
      "Iteration 126, loss = 9.22443764\n",
      "Iteration 127, loss = 9.09978198\n",
      "Iteration 128, loss = 8.97124761\n",
      "Iteration 129, loss = 8.85400057\n",
      "Iteration 130, loss = 8.76058235\n",
      "Iteration 131, loss = 8.62628365\n",
      "Iteration 132, loss = 8.51481752\n",
      "Iteration 133, loss = 8.40737165\n",
      "Iteration 134, loss = 8.29634702\n",
      "Iteration 135, loss = 8.18767629\n",
      "Iteration 136, loss = 8.08429415\n",
      "Iteration 137, loss = 7.97669423\n",
      "Iteration 138, loss = 7.87205342\n",
      "Iteration 139, loss = 7.77863157\n",
      "Iteration 140, loss = 7.67403467\n",
      "Iteration 141, loss = 7.58344799\n",
      "Iteration 142, loss = 7.49399668\n",
      "Iteration 143, loss = 7.39103058\n",
      "Iteration 144, loss = 7.30574050\n",
      "Iteration 145, loss = 7.21623339\n",
      "Iteration 146, loss = 7.11958872\n",
      "Iteration 147, loss = 7.03005233\n",
      "Iteration 148, loss = 6.94795183\n",
      "Iteration 149, loss = 6.85964903\n",
      "Iteration 150, loss = 6.79040837\n",
      "Iteration 151, loss = 6.70197086\n",
      "Iteration 152, loss = 6.62605302\n",
      "Iteration 153, loss = 6.54602285\n",
      "Iteration 154, loss = 6.45832570\n",
      "Iteration 155, loss = 6.38765916\n",
      "Iteration 156, loss = 6.30900757\n",
      "Iteration 157, loss = 6.22865202\n",
      "Iteration 158, loss = 6.14756683\n",
      "Iteration 159, loss = 6.07652353\n",
      "Iteration 160, loss = 6.00692627\n",
      "Iteration 161, loss = 5.94552894\n",
      "Iteration 162, loss = 5.87109080\n",
      "Iteration 163, loss = 5.80033107\n",
      "Iteration 164, loss = 5.73071838\n",
      "Iteration 165, loss = 5.66577903\n",
      "Iteration 166, loss = 5.60791459\n",
      "Iteration 167, loss = 5.53232100\n",
      "Iteration 168, loss = 5.47622204\n",
      "Iteration 169, loss = 5.41464914\n",
      "Iteration 170, loss = 5.34885701\n",
      "Iteration 171, loss = 5.28782900\n",
      "Iteration 172, loss = 5.22665955\n",
      "Iteration 173, loss = 5.16827535\n",
      "Iteration 174, loss = 5.10962221\n",
      "Iteration 175, loss = 5.05618419\n",
      "Iteration 176, loss = 4.99875513\n",
      "Iteration 177, loss = 4.93965013\n",
      "Iteration 178, loss = 4.87858330\n",
      "Iteration 179, loss = 4.82537020\n",
      "Iteration 180, loss = 4.77187819\n",
      "Iteration 181, loss = 4.71970782\n",
      "Iteration 182, loss = 4.66260718\n",
      "Iteration 183, loss = 4.62105644\n",
      "Iteration 184, loss = 4.56373407\n",
      "Iteration 185, loss = 4.51708427\n",
      "Iteration 186, loss = 4.46849789\n",
      "Iteration 187, loss = 4.42716531\n",
      "Iteration 188, loss = 4.37514656\n",
      "Iteration 189, loss = 4.32476787\n",
      "Iteration 190, loss = 4.27896534\n",
      "Iteration 191, loss = 4.23365660\n",
      "Iteration 192, loss = 4.18852237\n",
      "Iteration 193, loss = 4.14279562\n",
      "Iteration 194, loss = 4.09253859\n",
      "Iteration 195, loss = 4.05184350\n",
      "Iteration 196, loss = 4.00771558\n",
      "Iteration 197, loss = 3.96260014\n",
      "Iteration 198, loss = 3.93237682\n",
      "Iteration 199, loss = 3.89345188\n",
      "Iteration 200, loss = 3.83650045\n"
     ]
    },
    {
     "name": "stderr",
     "output_type": "stream",
     "text": [
      "/Library/Python/2.7/site-packages/sklearn/neural_network/multilayer_perceptron.py:563: ConvergenceWarning: Stochastic Optimizer: Maximum iterations reached and the optimization hasn't converged yet.\n",
      "  % (), ConvergenceWarning)\n"
     ]
    },
    {
     "data": {
      "text/plain": [
       "MLPRegressor(activation='relu', alpha=0.0001, batch_size='auto', beta_1=0.9,\n",
       "       beta_2=0.999, early_stopping=False, epsilon=1e-08,\n",
       "       hidden_layer_sizes=(100,), learning_rate='constant',\n",
       "       learning_rate_init=0.001, max_iter=200, momentum=0.9,\n",
       "       nesterovs_momentum=True, power_t=0.5, random_state=0, shuffle=True,\n",
       "       solver='adam', tol=0.0001, validation_fraction=0.1, verbose=True,\n",
       "       warm_start=False)"
      ]
     },
     "execution_count": 131,
     "metadata": {},
     "output_type": "execute_result"
    }
   ],
   "source": [
    "nn.fit(X_train, y_train)"
   ]
  },
  {
   "cell_type": "code",
   "execution_count": 132,
   "metadata": {},
   "outputs": [
    {
     "data": {
      "text/plain": [
       "-0.5252850665630171"
      ]
     },
     "execution_count": 132,
     "metadata": {},
     "output_type": "execute_result"
    }
   ],
   "source": [
    "nn.score(X_test, y_test)"
   ]
  },
  {
   "cell_type": "code",
   "execution_count": null,
   "metadata": {
    "collapsed": true
   },
   "outputs": [],
   "source": []
  }
 ],
 "metadata": {
  "kernelspec": {
   "display_name": "Python 2",
   "language": "python",
   "name": "python2"
  },
  "language_info": {
   "codemirror_mode": {
    "name": "ipython",
    "version": 2
   },
   "file_extension": ".py",
   "mimetype": "text/x-python",
   "name": "python",
   "nbconvert_exporter": "python",
   "pygments_lexer": "ipython2",
   "version": "2.7.10"
  }
 },
 "nbformat": 4,
 "nbformat_minor": 2
}
